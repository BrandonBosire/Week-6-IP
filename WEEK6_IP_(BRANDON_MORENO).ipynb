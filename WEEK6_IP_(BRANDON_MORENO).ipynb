{
  "nbformat": 4,
  "nbformat_minor": 0,
  "metadata": {
    "colab": {
      "name": "WEEK6 IP (BRANDON MORENO).ipynb",
      "provenance": [],
      "collapsed_sections": [],
      "authorship_tag": "ABX9TyPHzUkrJz7vRfICwHicHyoJ",
      "include_colab_link": true
    },
    "kernelspec": {
      "name": "python3",
      "display_name": "Python 3"
    },
    "language_info": {
      "name": "python"
    }
  },
  "cells": [
    {
      "cell_type": "markdown",
      "metadata": {
        "id": "view-in-github",
        "colab_type": "text"
      },
      "source": [
        "<a href=\"https://colab.research.google.com/github/BrandonBosire/Week-6-IP/blob/main/WEEK6_IP_(BRANDON_MORENO).ipynb\" target=\"_parent\"><img src=\"https://colab.research.google.com/assets/colab-badge.svg\" alt=\"Open In Colab\"/></a>"
      ]
    },
    {
      "cell_type": "markdown",
      "metadata": {
        "id": "58RaEoJU1zm0"
      },
      "source": [
        "## Mchezopesa Ltd - Football analysis and prediction company"
      ]
    },
    {
      "cell_type": "markdown",
      "metadata": {
        "id": "SgiME5biy-Iv"
      },
      "source": [
        "### 1. Defining the Question"
      ]
    },
    {
      "cell_type": "markdown",
      "metadata": {
        "id": "uSKmboiPzMZa"
      },
      "source": [
        "#### a) Specifying the Question\n",
        "Predict the result of a game between team 1 and team 2, based on who's home and who's away, and on whether or not the game is friendly (include rank in your training)"
      ]
    },
    {
      "cell_type": "markdown",
      "metadata": {
        "id": "QTS2xr4OzL5g"
      },
      "source": [
        "#### b) Defining the Metric for Success\n",
        "\n",
        "Creating models that meet the statistical criteria for both accuracy and dependability "
      ]
    },
    {
      "cell_type": "markdown",
      "metadata": {
        "id": "oBJzwzFrzgb6"
      },
      "source": [
        "#### c) Understanding the context \n",
        "\n",
        "A new FIFA/Coca-Cola World Ranking model took effect in August 2018 after approval by the FIFA Council.\n",
        "\n",
        "This new version developed by FIFA was named \"SUM\" as it relies on adding/subtracting points won or lost for a game to/from the previous point totals rather than averaging game points over a given time period as in the previous version of the World Ranking.\n",
        "\n",
        "The method of calculation adds/subtracts points (as opposed to averaging points) for individual\n",
        "matches to/from a team’s existing point total. The points which are added or subtracted are partially\n",
        "determined by the relative strength of the two opponents, including the logical expectation that teams\n",
        "higher in the ranking should fare better against teams lower in the ranking."
      ]
    },
    {
      "cell_type": "markdown",
      "metadata": {
        "id": "_KKjdflczfow"
      },
      "source": [
        "#### d) Recording the Experimental Design"
      ]
    },
    {
      "cell_type": "markdown",
      "metadata": {
        "id": "hlA8WVwEzflE"
      },
      "source": [
        "Below is the expected flow of our work:\n",
        "\n",
        "- Data Cleaning and Preparation\n",
        "    - Load libraries and dataset\n",
        "    - Deal with missing values\n",
        "    - Deal with duplicated records\n",
        "    - Perform feature engineering\n",
        "- Perform EDA\n",
        "    - Univariate Analysis\n",
        "    - Bivariate Analysis\n",
        "- Regression modeling\n",
        "    - Polynomial modeling (Case 1 and Case 2)\n",
        "    - Logistical modeling"
      ]
    },
    {
      "cell_type": "markdown",
      "metadata": {
        "id": "Tv2FfQK70NnE"
      },
      "source": [
        "#### e) Data relevance / Appropriateness of Data\n"
      ]
    },
    {
      "cell_type": "markdown",
      "metadata": {
        "id": "EJi3g5ka0NCl"
      },
      "source": [
        "###Here are the variables found from both dataset:\n",
        "\n",
        "-Rank - Country rank.\n",
        "\n",
        "-Country Abbreviation\n",
        "\n",
        "-Total Points\n",
        "\n",
        "-Previous Points\n",
        "\n",
        "-Rank Change\n",
        "\n",
        "-Average Previous Years Points\n",
        "\n",
        "-Average Previous Years Points Weighted (50%)\n",
        "\n",
        "-Average 2 Years Ago Points\n",
        "\n",
        "-Average 2 Years Ago Points Weighted (30%)\n",
        "\n",
        "-Average 3 Years Ago Points\n",
        "\n",
        "-Average 3 Years Ago Points Weighted (20%)\n",
        "\n",
        "-Confederation\n",
        "\n",
        "-Date - date of the match\n",
        "\n",
        "\n",
        "-Home_team - the name of the home team\n",
        "\n",
        "-Away_team - the name of the away team\n",
        "\n",
        "-Home_score - full-time home team score including extra time, not \n",
        "including penalty-shootouts\n",
        "\n",
        "-Away_score - full-time away team score including extra time, not including penalty-shootouts\n",
        "\n",
        "-Tournament - the name of the tournament\n",
        "\n",
        "-City - the name of the city/town/administrative unit where the match was played\n",
        "\n",
        "-Country - the name of the country where the match was played\n",
        "\n",
        "-Neutral - TRUE/FALSE column indicating whether the match was played at a neutral venue"
      ]
    },
    {
      "cell_type": "code",
      "metadata": {
        "id": "O-Q6IkrofN9o"
      },
      "source": [
        "#Importing libraries.\n",
        "#\n",
        "import pandas as pd\n",
        "import numpy as np\n",
        "import matplotlib.pyplot as plt\n"
      ],
      "execution_count": 101,
      "outputs": []
    },
    {
      "cell_type": "code",
      "metadata": {
        "id": "XTHdM5AhcjKO"
      },
      "source": [
        "#Loading the two data sets\n",
        "#\n",
        "#The first one contains the country ranks and country names\n",
        "ranks = pd.read_csv('fifa_ranking.csv')\n",
        "#The second one contains the home team and away team country names, as well as scores and tournament types.\n",
        "score = pd.read_csv('results.csv')\n"
      ],
      "execution_count": 102,
      "outputs": []
    },
    {
      "cell_type": "code",
      "metadata": {
        "colab": {
          "base_uri": "https://localhost:8080/",
          "height": 313
        },
        "id": "0hZ5ez_sfb-N",
        "outputId": "ba29dbb1-040b-43b5-fb02-025250c98873"
      },
      "source": [
        "#Previewing the two datasets\n",
        "#ranks dataset\n",
        "#\n",
        "ranks.head(5)"
      ],
      "execution_count": 103,
      "outputs": [
        {
          "output_type": "execute_result",
          "data": {
            "text/html": [
              "<div>\n",
              "<style scoped>\n",
              "    .dataframe tbody tr th:only-of-type {\n",
              "        vertical-align: middle;\n",
              "    }\n",
              "\n",
              "    .dataframe tbody tr th {\n",
              "        vertical-align: top;\n",
              "    }\n",
              "\n",
              "    .dataframe thead th {\n",
              "        text-align: right;\n",
              "    }\n",
              "</style>\n",
              "<table border=\"1\" class=\"dataframe\">\n",
              "  <thead>\n",
              "    <tr style=\"text-align: right;\">\n",
              "      <th></th>\n",
              "      <th>rank</th>\n",
              "      <th>country_full</th>\n",
              "      <th>country_abrv</th>\n",
              "      <th>total_points</th>\n",
              "      <th>previous_points</th>\n",
              "      <th>rank_change</th>\n",
              "      <th>cur_year_avg</th>\n",
              "      <th>cur_year_avg_weighted</th>\n",
              "      <th>last_year_avg</th>\n",
              "      <th>last_year_avg_weighted</th>\n",
              "      <th>two_year_ago_avg</th>\n",
              "      <th>two_year_ago_weighted</th>\n",
              "      <th>three_year_ago_avg</th>\n",
              "      <th>three_year_ago_weighted</th>\n",
              "      <th>confederation</th>\n",
              "      <th>rank_date</th>\n",
              "    </tr>\n",
              "  </thead>\n",
              "  <tbody>\n",
              "    <tr>\n",
              "      <th>0</th>\n",
              "      <td>1</td>\n",
              "      <td>Germany</td>\n",
              "      <td>GER</td>\n",
              "      <td>0.0</td>\n",
              "      <td>57</td>\n",
              "      <td>0</td>\n",
              "      <td>0.0</td>\n",
              "      <td>0.0</td>\n",
              "      <td>0.0</td>\n",
              "      <td>0.0</td>\n",
              "      <td>0.0</td>\n",
              "      <td>0.0</td>\n",
              "      <td>0.0</td>\n",
              "      <td>0.0</td>\n",
              "      <td>UEFA</td>\n",
              "      <td>1993-08-08</td>\n",
              "    </tr>\n",
              "    <tr>\n",
              "      <th>1</th>\n",
              "      <td>2</td>\n",
              "      <td>Italy</td>\n",
              "      <td>ITA</td>\n",
              "      <td>0.0</td>\n",
              "      <td>57</td>\n",
              "      <td>0</td>\n",
              "      <td>0.0</td>\n",
              "      <td>0.0</td>\n",
              "      <td>0.0</td>\n",
              "      <td>0.0</td>\n",
              "      <td>0.0</td>\n",
              "      <td>0.0</td>\n",
              "      <td>0.0</td>\n",
              "      <td>0.0</td>\n",
              "      <td>UEFA</td>\n",
              "      <td>1993-08-08</td>\n",
              "    </tr>\n",
              "    <tr>\n",
              "      <th>2</th>\n",
              "      <td>3</td>\n",
              "      <td>Switzerland</td>\n",
              "      <td>SUI</td>\n",
              "      <td>0.0</td>\n",
              "      <td>50</td>\n",
              "      <td>9</td>\n",
              "      <td>0.0</td>\n",
              "      <td>0.0</td>\n",
              "      <td>0.0</td>\n",
              "      <td>0.0</td>\n",
              "      <td>0.0</td>\n",
              "      <td>0.0</td>\n",
              "      <td>0.0</td>\n",
              "      <td>0.0</td>\n",
              "      <td>UEFA</td>\n",
              "      <td>1993-08-08</td>\n",
              "    </tr>\n",
              "    <tr>\n",
              "      <th>3</th>\n",
              "      <td>4</td>\n",
              "      <td>Sweden</td>\n",
              "      <td>SWE</td>\n",
              "      <td>0.0</td>\n",
              "      <td>55</td>\n",
              "      <td>0</td>\n",
              "      <td>0.0</td>\n",
              "      <td>0.0</td>\n",
              "      <td>0.0</td>\n",
              "      <td>0.0</td>\n",
              "      <td>0.0</td>\n",
              "      <td>0.0</td>\n",
              "      <td>0.0</td>\n",
              "      <td>0.0</td>\n",
              "      <td>UEFA</td>\n",
              "      <td>1993-08-08</td>\n",
              "    </tr>\n",
              "    <tr>\n",
              "      <th>4</th>\n",
              "      <td>5</td>\n",
              "      <td>Argentina</td>\n",
              "      <td>ARG</td>\n",
              "      <td>0.0</td>\n",
              "      <td>51</td>\n",
              "      <td>5</td>\n",
              "      <td>0.0</td>\n",
              "      <td>0.0</td>\n",
              "      <td>0.0</td>\n",
              "      <td>0.0</td>\n",
              "      <td>0.0</td>\n",
              "      <td>0.0</td>\n",
              "      <td>0.0</td>\n",
              "      <td>0.0</td>\n",
              "      <td>CONMEBOL</td>\n",
              "      <td>1993-08-08</td>\n",
              "    </tr>\n",
              "  </tbody>\n",
              "</table>\n",
              "</div>"
            ],
            "text/plain": [
              "   rank country_full  ... confederation   rank_date\n",
              "0     1      Germany  ...          UEFA  1993-08-08\n",
              "1     2        Italy  ...          UEFA  1993-08-08\n",
              "2     3  Switzerland  ...          UEFA  1993-08-08\n",
              "3     4       Sweden  ...          UEFA  1993-08-08\n",
              "4     5    Argentina  ...      CONMEBOL  1993-08-08\n",
              "\n",
              "[5 rows x 16 columns]"
            ]
          },
          "metadata": {},
          "execution_count": 103
        }
      ]
    },
    {
      "cell_type": "code",
      "metadata": {
        "colab": {
          "base_uri": "https://localhost:8080/",
          "height": 206
        },
        "id": "Lp9-2oP3fqme",
        "outputId": "d5af90fc-ee7e-4aae-bbdb-c8e801eb5263"
      },
      "source": [
        "#The scores dataset\n",
        "#\n",
        "score.head(5)"
      ],
      "execution_count": 104,
      "outputs": [
        {
          "output_type": "execute_result",
          "data": {
            "text/html": [
              "<div>\n",
              "<style scoped>\n",
              "    .dataframe tbody tr th:only-of-type {\n",
              "        vertical-align: middle;\n",
              "    }\n",
              "\n",
              "    .dataframe tbody tr th {\n",
              "        vertical-align: top;\n",
              "    }\n",
              "\n",
              "    .dataframe thead th {\n",
              "        text-align: right;\n",
              "    }\n",
              "</style>\n",
              "<table border=\"1\" class=\"dataframe\">\n",
              "  <thead>\n",
              "    <tr style=\"text-align: right;\">\n",
              "      <th></th>\n",
              "      <th>date</th>\n",
              "      <th>home_team</th>\n",
              "      <th>away_team</th>\n",
              "      <th>home_score</th>\n",
              "      <th>away_score</th>\n",
              "      <th>tournament</th>\n",
              "      <th>city</th>\n",
              "      <th>country</th>\n",
              "      <th>neutral</th>\n",
              "    </tr>\n",
              "  </thead>\n",
              "  <tbody>\n",
              "    <tr>\n",
              "      <th>0</th>\n",
              "      <td>1872-11-30</td>\n",
              "      <td>Scotland</td>\n",
              "      <td>England</td>\n",
              "      <td>0</td>\n",
              "      <td>0</td>\n",
              "      <td>Friendly</td>\n",
              "      <td>Glasgow</td>\n",
              "      <td>Scotland</td>\n",
              "      <td>False</td>\n",
              "    </tr>\n",
              "    <tr>\n",
              "      <th>1</th>\n",
              "      <td>1873-03-08</td>\n",
              "      <td>England</td>\n",
              "      <td>Scotland</td>\n",
              "      <td>4</td>\n",
              "      <td>2</td>\n",
              "      <td>Friendly</td>\n",
              "      <td>London</td>\n",
              "      <td>England</td>\n",
              "      <td>False</td>\n",
              "    </tr>\n",
              "    <tr>\n",
              "      <th>2</th>\n",
              "      <td>1874-03-07</td>\n",
              "      <td>Scotland</td>\n",
              "      <td>England</td>\n",
              "      <td>2</td>\n",
              "      <td>1</td>\n",
              "      <td>Friendly</td>\n",
              "      <td>Glasgow</td>\n",
              "      <td>Scotland</td>\n",
              "      <td>False</td>\n",
              "    </tr>\n",
              "    <tr>\n",
              "      <th>3</th>\n",
              "      <td>1875-03-06</td>\n",
              "      <td>England</td>\n",
              "      <td>Scotland</td>\n",
              "      <td>2</td>\n",
              "      <td>2</td>\n",
              "      <td>Friendly</td>\n",
              "      <td>London</td>\n",
              "      <td>England</td>\n",
              "      <td>False</td>\n",
              "    </tr>\n",
              "    <tr>\n",
              "      <th>4</th>\n",
              "      <td>1876-03-04</td>\n",
              "      <td>Scotland</td>\n",
              "      <td>England</td>\n",
              "      <td>3</td>\n",
              "      <td>0</td>\n",
              "      <td>Friendly</td>\n",
              "      <td>Glasgow</td>\n",
              "      <td>Scotland</td>\n",
              "      <td>False</td>\n",
              "    </tr>\n",
              "  </tbody>\n",
              "</table>\n",
              "</div>"
            ],
            "text/plain": [
              "         date home_team away_team  ...     city   country neutral\n",
              "0  1872-11-30  Scotland   England  ...  Glasgow  Scotland   False\n",
              "1  1873-03-08   England  Scotland  ...   London   England   False\n",
              "2  1874-03-07  Scotland   England  ...  Glasgow  Scotland   False\n",
              "3  1875-03-06   England  Scotland  ...   London   England   False\n",
              "4  1876-03-04  Scotland   England  ...  Glasgow  Scotland   False\n",
              "\n",
              "[5 rows x 9 columns]"
            ]
          },
          "metadata": {},
          "execution_count": 104
        }
      ]
    },
    {
      "cell_type": "code",
      "metadata": {
        "colab": {
          "base_uri": "https://localhost:8080/"
        },
        "id": "peY4tn2LgnvL",
        "outputId": "514c243c-50b0-4858-c396-e0bff1759897"
      },
      "source": [
        "#Previewing the number of rows and columns\n",
        "#\n",
        "ranks.shape, score.shape"
      ],
      "execution_count": 105,
      "outputs": [
        {
          "output_type": "execute_result",
          "data": {
            "text/plain": [
              "((57793, 16), (40839, 9))"
            ]
          },
          "metadata": {},
          "execution_count": 105
        }
      ]
    },
    {
      "cell_type": "code",
      "metadata": {
        "colab": {
          "base_uri": "https://localhost:8080/"
        },
        "id": "cJeJ50eeg9qP",
        "outputId": "6c804e89-9aff-456e-9bbb-fe08d6d21429"
      },
      "source": [
        "#Previewing column names\n",
        "#\n",
        "print('Ranks dataset columns', ranks.columns)\n",
        "\n",
        "print('Score dataset columns', score.columns)"
      ],
      "execution_count": 106,
      "outputs": [
        {
          "output_type": "stream",
          "name": "stdout",
          "text": [
            "Ranks dataset columns Index(['rank', 'country_full', 'country_abrv', 'total_points',\n",
            "       'previous_points', 'rank_change', 'cur_year_avg',\n",
            "       'cur_year_avg_weighted', 'last_year_avg', 'last_year_avg_weighted',\n",
            "       'two_year_ago_avg', 'two_year_ago_weighted', 'three_year_ago_avg',\n",
            "       'three_year_ago_weighted', 'confederation', 'rank_date'],\n",
            "      dtype='object')\n",
            "Score dataset columns Index(['date', 'home_team', 'away_team', 'home_score', 'away_score',\n",
            "       'tournament', 'city', 'country', 'neutral'],\n",
            "      dtype='object')\n"
          ]
        }
      ]
    },
    {
      "cell_type": "code",
      "metadata": {
        "colab": {
          "base_uri": "https://localhost:8080/"
        },
        "id": "qoQO5lyphk0b",
        "outputId": "c4cb17c2-bdbd-417f-c77d-1dba5b426cef"
      },
      "source": [
        "#Getting column data information\n",
        "#Ranks dataset\n",
        "#\n",
        "ranks.info()"
      ],
      "execution_count": 107,
      "outputs": [
        {
          "output_type": "stream",
          "name": "stdout",
          "text": [
            "<class 'pandas.core.frame.DataFrame'>\n",
            "RangeIndex: 57793 entries, 0 to 57792\n",
            "Data columns (total 16 columns):\n",
            " #   Column                   Non-Null Count  Dtype  \n",
            "---  ------                   --------------  -----  \n",
            " 0   rank                     57793 non-null  int64  \n",
            " 1   country_full             57793 non-null  object \n",
            " 2   country_abrv             57793 non-null  object \n",
            " 3   total_points             57793 non-null  float64\n",
            " 4   previous_points          57793 non-null  int64  \n",
            " 5   rank_change              57793 non-null  int64  \n",
            " 6   cur_year_avg             57793 non-null  float64\n",
            " 7   cur_year_avg_weighted    57793 non-null  float64\n",
            " 8   last_year_avg            57793 non-null  float64\n",
            " 9   last_year_avg_weighted   57793 non-null  float64\n",
            " 10  two_year_ago_avg         57793 non-null  float64\n",
            " 11  two_year_ago_weighted    57793 non-null  float64\n",
            " 12  three_year_ago_avg       57793 non-null  float64\n",
            " 13  three_year_ago_weighted  57793 non-null  float64\n",
            " 14  confederation            57793 non-null  object \n",
            " 15  rank_date                57793 non-null  object \n",
            "dtypes: float64(9), int64(3), object(4)\n",
            "memory usage: 7.1+ MB\n"
          ]
        }
      ]
    },
    {
      "cell_type": "code",
      "metadata": {
        "colab": {
          "base_uri": "https://localhost:8080/"
        },
        "id": "qZa8fHt4hzaQ",
        "outputId": "8af7a9f2-0c57-488f-d6a7-0b23358a11ee"
      },
      "source": [
        "#Getting column data information\n",
        "#Score dataset\n",
        "#\n",
        "score.info()"
      ],
      "execution_count": 108,
      "outputs": [
        {
          "output_type": "stream",
          "name": "stdout",
          "text": [
            "<class 'pandas.core.frame.DataFrame'>\n",
            "RangeIndex: 40839 entries, 0 to 40838\n",
            "Data columns (total 9 columns):\n",
            " #   Column      Non-Null Count  Dtype \n",
            "---  ------      --------------  ----- \n",
            " 0   date        40839 non-null  object\n",
            " 1   home_team   40839 non-null  object\n",
            " 2   away_team   40839 non-null  object\n",
            " 3   home_score  40839 non-null  int64 \n",
            " 4   away_score  40839 non-null  int64 \n",
            " 5   tournament  40839 non-null  object\n",
            " 6   city        40839 non-null  object\n",
            " 7   country     40839 non-null  object\n",
            " 8   neutral     40839 non-null  bool  \n",
            "dtypes: bool(1), int64(2), object(6)\n",
            "memory usage: 2.5+ MB\n"
          ]
        }
      ]
    },
    {
      "cell_type": "code",
      "metadata": {
        "id": "152cgBMEi96g"
      },
      "source": [
        "#Converting the date columns in both datasets to datetime format\n",
        "#\n",
        "score['date']=pd.to_datetime(score['date'])\n",
        "\n",
        "ranks['rank_date']=pd.to_datetime(ranks['rank_date'])"
      ],
      "execution_count": 109,
      "outputs": []
    },
    {
      "cell_type": "code",
      "metadata": {
        "colab": {
          "base_uri": "https://localhost:8080/",
          "height": 616
        },
        "id": "ygIoZF14jIyN",
        "outputId": "cee9e91b-b871-4913-947a-4ff6355dacbe"
      },
      "source": [
        "ranks"
      ],
      "execution_count": 110,
      "outputs": [
        {
          "output_type": "execute_result",
          "data": {
            "text/html": [
              "<div>\n",
              "<style scoped>\n",
              "    .dataframe tbody tr th:only-of-type {\n",
              "        vertical-align: middle;\n",
              "    }\n",
              "\n",
              "    .dataframe tbody tr th {\n",
              "        vertical-align: top;\n",
              "    }\n",
              "\n",
              "    .dataframe thead th {\n",
              "        text-align: right;\n",
              "    }\n",
              "</style>\n",
              "<table border=\"1\" class=\"dataframe\">\n",
              "  <thead>\n",
              "    <tr style=\"text-align: right;\">\n",
              "      <th></th>\n",
              "      <th>rank</th>\n",
              "      <th>country_full</th>\n",
              "      <th>country_abrv</th>\n",
              "      <th>total_points</th>\n",
              "      <th>previous_points</th>\n",
              "      <th>rank_change</th>\n",
              "      <th>cur_year_avg</th>\n",
              "      <th>cur_year_avg_weighted</th>\n",
              "      <th>last_year_avg</th>\n",
              "      <th>last_year_avg_weighted</th>\n",
              "      <th>two_year_ago_avg</th>\n",
              "      <th>two_year_ago_weighted</th>\n",
              "      <th>three_year_ago_avg</th>\n",
              "      <th>three_year_ago_weighted</th>\n",
              "      <th>confederation</th>\n",
              "      <th>rank_date</th>\n",
              "    </tr>\n",
              "  </thead>\n",
              "  <tbody>\n",
              "    <tr>\n",
              "      <th>0</th>\n",
              "      <td>1</td>\n",
              "      <td>Germany</td>\n",
              "      <td>GER</td>\n",
              "      <td>0.0</td>\n",
              "      <td>57</td>\n",
              "      <td>0</td>\n",
              "      <td>0.0</td>\n",
              "      <td>0.0</td>\n",
              "      <td>0.0</td>\n",
              "      <td>0.0</td>\n",
              "      <td>0.0</td>\n",
              "      <td>0.0</td>\n",
              "      <td>0.0</td>\n",
              "      <td>0.0</td>\n",
              "      <td>UEFA</td>\n",
              "      <td>1993-08-08</td>\n",
              "    </tr>\n",
              "    <tr>\n",
              "      <th>1</th>\n",
              "      <td>2</td>\n",
              "      <td>Italy</td>\n",
              "      <td>ITA</td>\n",
              "      <td>0.0</td>\n",
              "      <td>57</td>\n",
              "      <td>0</td>\n",
              "      <td>0.0</td>\n",
              "      <td>0.0</td>\n",
              "      <td>0.0</td>\n",
              "      <td>0.0</td>\n",
              "      <td>0.0</td>\n",
              "      <td>0.0</td>\n",
              "      <td>0.0</td>\n",
              "      <td>0.0</td>\n",
              "      <td>UEFA</td>\n",
              "      <td>1993-08-08</td>\n",
              "    </tr>\n",
              "    <tr>\n",
              "      <th>2</th>\n",
              "      <td>3</td>\n",
              "      <td>Switzerland</td>\n",
              "      <td>SUI</td>\n",
              "      <td>0.0</td>\n",
              "      <td>50</td>\n",
              "      <td>9</td>\n",
              "      <td>0.0</td>\n",
              "      <td>0.0</td>\n",
              "      <td>0.0</td>\n",
              "      <td>0.0</td>\n",
              "      <td>0.0</td>\n",
              "      <td>0.0</td>\n",
              "      <td>0.0</td>\n",
              "      <td>0.0</td>\n",
              "      <td>UEFA</td>\n",
              "      <td>1993-08-08</td>\n",
              "    </tr>\n",
              "    <tr>\n",
              "      <th>3</th>\n",
              "      <td>4</td>\n",
              "      <td>Sweden</td>\n",
              "      <td>SWE</td>\n",
              "      <td>0.0</td>\n",
              "      <td>55</td>\n",
              "      <td>0</td>\n",
              "      <td>0.0</td>\n",
              "      <td>0.0</td>\n",
              "      <td>0.0</td>\n",
              "      <td>0.0</td>\n",
              "      <td>0.0</td>\n",
              "      <td>0.0</td>\n",
              "      <td>0.0</td>\n",
              "      <td>0.0</td>\n",
              "      <td>UEFA</td>\n",
              "      <td>1993-08-08</td>\n",
              "    </tr>\n",
              "    <tr>\n",
              "      <th>4</th>\n",
              "      <td>5</td>\n",
              "      <td>Argentina</td>\n",
              "      <td>ARG</td>\n",
              "      <td>0.0</td>\n",
              "      <td>51</td>\n",
              "      <td>5</td>\n",
              "      <td>0.0</td>\n",
              "      <td>0.0</td>\n",
              "      <td>0.0</td>\n",
              "      <td>0.0</td>\n",
              "      <td>0.0</td>\n",
              "      <td>0.0</td>\n",
              "      <td>0.0</td>\n",
              "      <td>0.0</td>\n",
              "      <td>CONMEBOL</td>\n",
              "      <td>1993-08-08</td>\n",
              "    </tr>\n",
              "    <tr>\n",
              "      <th>...</th>\n",
              "      <td>...</td>\n",
              "      <td>...</td>\n",
              "      <td>...</td>\n",
              "      <td>...</td>\n",
              "      <td>...</td>\n",
              "      <td>...</td>\n",
              "      <td>...</td>\n",
              "      <td>...</td>\n",
              "      <td>...</td>\n",
              "      <td>...</td>\n",
              "      <td>...</td>\n",
              "      <td>...</td>\n",
              "      <td>...</td>\n",
              "      <td>...</td>\n",
              "      <td>...</td>\n",
              "      <td>...</td>\n",
              "    </tr>\n",
              "    <tr>\n",
              "      <th>57788</th>\n",
              "      <td>206</td>\n",
              "      <td>Anguilla</td>\n",
              "      <td>AIA</td>\n",
              "      <td>0.0</td>\n",
              "      <td>0</td>\n",
              "      <td>1</td>\n",
              "      <td>0.0</td>\n",
              "      <td>0.0</td>\n",
              "      <td>0.0</td>\n",
              "      <td>0.0</td>\n",
              "      <td>0.0</td>\n",
              "      <td>0.0</td>\n",
              "      <td>0.0</td>\n",
              "      <td>0.0</td>\n",
              "      <td>CONCACAF</td>\n",
              "      <td>2018-06-07</td>\n",
              "    </tr>\n",
              "    <tr>\n",
              "      <th>57789</th>\n",
              "      <td>206</td>\n",
              "      <td>Bahamas</td>\n",
              "      <td>BAH</td>\n",
              "      <td>0.0</td>\n",
              "      <td>0</td>\n",
              "      <td>1</td>\n",
              "      <td>0.0</td>\n",
              "      <td>0.0</td>\n",
              "      <td>0.0</td>\n",
              "      <td>0.0</td>\n",
              "      <td>0.0</td>\n",
              "      <td>0.0</td>\n",
              "      <td>0.0</td>\n",
              "      <td>0.0</td>\n",
              "      <td>CONCACAF</td>\n",
              "      <td>2018-06-07</td>\n",
              "    </tr>\n",
              "    <tr>\n",
              "      <th>57790</th>\n",
              "      <td>206</td>\n",
              "      <td>Eritrea</td>\n",
              "      <td>ERI</td>\n",
              "      <td>0.0</td>\n",
              "      <td>0</td>\n",
              "      <td>1</td>\n",
              "      <td>0.0</td>\n",
              "      <td>0.0</td>\n",
              "      <td>0.0</td>\n",
              "      <td>0.0</td>\n",
              "      <td>0.0</td>\n",
              "      <td>0.0</td>\n",
              "      <td>0.0</td>\n",
              "      <td>0.0</td>\n",
              "      <td>CAF</td>\n",
              "      <td>2018-06-07</td>\n",
              "    </tr>\n",
              "    <tr>\n",
              "      <th>57791</th>\n",
              "      <td>206</td>\n",
              "      <td>Somalia</td>\n",
              "      <td>SOM</td>\n",
              "      <td>0.0</td>\n",
              "      <td>0</td>\n",
              "      <td>1</td>\n",
              "      <td>0.0</td>\n",
              "      <td>0.0</td>\n",
              "      <td>0.0</td>\n",
              "      <td>0.0</td>\n",
              "      <td>0.0</td>\n",
              "      <td>0.0</td>\n",
              "      <td>0.0</td>\n",
              "      <td>0.0</td>\n",
              "      <td>CAF</td>\n",
              "      <td>2018-06-07</td>\n",
              "    </tr>\n",
              "    <tr>\n",
              "      <th>57792</th>\n",
              "      <td>206</td>\n",
              "      <td>Tonga</td>\n",
              "      <td>TGA</td>\n",
              "      <td>0.0</td>\n",
              "      <td>0</td>\n",
              "      <td>1</td>\n",
              "      <td>0.0</td>\n",
              "      <td>0.0</td>\n",
              "      <td>0.0</td>\n",
              "      <td>0.0</td>\n",
              "      <td>0.0</td>\n",
              "      <td>0.0</td>\n",
              "      <td>0.0</td>\n",
              "      <td>0.0</td>\n",
              "      <td>OFC</td>\n",
              "      <td>2018-06-07</td>\n",
              "    </tr>\n",
              "  </tbody>\n",
              "</table>\n",
              "<p>57793 rows × 16 columns</p>\n",
              "</div>"
            ],
            "text/plain": [
              "       rank country_full  ... confederation  rank_date\n",
              "0         1      Germany  ...          UEFA 1993-08-08\n",
              "1         2        Italy  ...          UEFA 1993-08-08\n",
              "2         3  Switzerland  ...          UEFA 1993-08-08\n",
              "3         4       Sweden  ...          UEFA 1993-08-08\n",
              "4         5    Argentina  ...      CONMEBOL 1993-08-08\n",
              "...     ...          ...  ...           ...        ...\n",
              "57788   206     Anguilla  ...      CONCACAF 2018-06-07\n",
              "57789   206      Bahamas  ...      CONCACAF 2018-06-07\n",
              "57790   206      Eritrea  ...           CAF 2018-06-07\n",
              "57791   206      Somalia  ...           CAF 2018-06-07\n",
              "57792   206        Tonga  ...           OFC 2018-06-07\n",
              "\n",
              "[57793 rows x 16 columns]"
            ]
          },
          "metadata": {},
          "execution_count": 110
        }
      ]
    },
    {
      "cell_type": "code",
      "metadata": {
        "colab": {
          "base_uri": "https://localhost:8080/"
        },
        "id": "aARmbSh6kYmm",
        "outputId": "26dd7d7e-462c-4d5c-a743-a3fe572350e9"
      },
      "source": [
        "#Creating new variables for the desired columns.\n",
        "#From ranks dataset we will only use three columns\n",
        "#The country_full,rank and rank_date(rank_date as well as country_full to be changed to date for join purposes)\n",
        "#\n",
        "rank_df=ranks[['country_full','rank','rank_date']]\n",
        "rank_df['date']=rank_df['rank_date']\n",
        "rank_df['home_team']=rank_df['country_full']\n",
        "rank_df['away_team']=rank_df['country_full']\n",
        "rank_df.drop(['rank_date'],axis=1,inplace=True)\n"
      ],
      "execution_count": 111,
      "outputs": [
        {
          "output_type": "stream",
          "name": "stderr",
          "text": [
            "/usr/local/lib/python3.7/dist-packages/ipykernel_launcher.py:6: SettingWithCopyWarning: \n",
            "A value is trying to be set on a copy of a slice from a DataFrame.\n",
            "Try using .loc[row_indexer,col_indexer] = value instead\n",
            "\n",
            "See the caveats in the documentation: https://pandas.pydata.org/pandas-docs/stable/user_guide/indexing.html#returning-a-view-versus-a-copy\n",
            "  \n",
            "/usr/local/lib/python3.7/dist-packages/ipykernel_launcher.py:7: SettingWithCopyWarning: \n",
            "A value is trying to be set on a copy of a slice from a DataFrame.\n",
            "Try using .loc[row_indexer,col_indexer] = value instead\n",
            "\n",
            "See the caveats in the documentation: https://pandas.pydata.org/pandas-docs/stable/user_guide/indexing.html#returning-a-view-versus-a-copy\n",
            "  import sys\n",
            "/usr/local/lib/python3.7/dist-packages/ipykernel_launcher.py:8: SettingWithCopyWarning: \n",
            "A value is trying to be set on a copy of a slice from a DataFrame.\n",
            "Try using .loc[row_indexer,col_indexer] = value instead\n",
            "\n",
            "See the caveats in the documentation: https://pandas.pydata.org/pandas-docs/stable/user_guide/indexing.html#returning-a-view-versus-a-copy\n",
            "  \n",
            "/usr/local/lib/python3.7/dist-packages/pandas/core/frame.py:4174: SettingWithCopyWarning: \n",
            "A value is trying to be set on a copy of a slice from a DataFrame\n",
            "\n",
            "See the caveats in the documentation: https://pandas.pydata.org/pandas-docs/stable/user_guide/indexing.html#returning-a-view-versus-a-copy\n",
            "  errors=errors,\n"
          ]
        }
      ]
    },
    {
      "cell_type": "code",
      "metadata": {
        "colab": {
          "base_uri": "https://localhost:8080/"
        },
        "id": "GF5xPkaxXcYM",
        "outputId": "aba60060-32d6-4cf6-e5fa-882d92a93e7c"
      },
      "source": [
        "rank_df.info()"
      ],
      "execution_count": 112,
      "outputs": [
        {
          "output_type": "stream",
          "name": "stdout",
          "text": [
            "<class 'pandas.core.frame.DataFrame'>\n",
            "RangeIndex: 57793 entries, 0 to 57792\n",
            "Data columns (total 5 columns):\n",
            " #   Column        Non-Null Count  Dtype         \n",
            "---  ------        --------------  -----         \n",
            " 0   country_full  57793 non-null  object        \n",
            " 1   rank          57793 non-null  int64         \n",
            " 2   date          57793 non-null  datetime64[ns]\n",
            " 3   home_team     57793 non-null  object        \n",
            " 4   away_team     57793 non-null  object        \n",
            "dtypes: datetime64[ns](1), int64(1), object(3)\n",
            "memory usage: 2.2+ MB\n"
          ]
        }
      ]
    },
    {
      "cell_type": "code",
      "metadata": {
        "id": "quygU2T9kLl_",
        "colab": {
          "base_uri": "https://localhost:8080/",
          "height": 174
        },
        "outputId": "65eb3d9c-0285-46a5-9f61-ab58f8ba7b24"
      },
      "source": [
        "#From the score dataset we will be using \n",
        "#The date , home_team , away_team , home_score , away_score and tournament columns\n",
        "#\n",
        "score_df= score[['date','home_team', 'away_team', 'home_score' , 'away_score', 'tournament']]\n",
        "score_df.head(4)\n"
      ],
      "execution_count": 113,
      "outputs": [
        {
          "output_type": "execute_result",
          "data": {
            "text/html": [
              "<div>\n",
              "<style scoped>\n",
              "    .dataframe tbody tr th:only-of-type {\n",
              "        vertical-align: middle;\n",
              "    }\n",
              "\n",
              "    .dataframe tbody tr th {\n",
              "        vertical-align: top;\n",
              "    }\n",
              "\n",
              "    .dataframe thead th {\n",
              "        text-align: right;\n",
              "    }\n",
              "</style>\n",
              "<table border=\"1\" class=\"dataframe\">\n",
              "  <thead>\n",
              "    <tr style=\"text-align: right;\">\n",
              "      <th></th>\n",
              "      <th>date</th>\n",
              "      <th>home_team</th>\n",
              "      <th>away_team</th>\n",
              "      <th>home_score</th>\n",
              "      <th>away_score</th>\n",
              "      <th>tournament</th>\n",
              "    </tr>\n",
              "  </thead>\n",
              "  <tbody>\n",
              "    <tr>\n",
              "      <th>0</th>\n",
              "      <td>1872-11-30</td>\n",
              "      <td>Scotland</td>\n",
              "      <td>England</td>\n",
              "      <td>0</td>\n",
              "      <td>0</td>\n",
              "      <td>Friendly</td>\n",
              "    </tr>\n",
              "    <tr>\n",
              "      <th>1</th>\n",
              "      <td>1873-03-08</td>\n",
              "      <td>England</td>\n",
              "      <td>Scotland</td>\n",
              "      <td>4</td>\n",
              "      <td>2</td>\n",
              "      <td>Friendly</td>\n",
              "    </tr>\n",
              "    <tr>\n",
              "      <th>2</th>\n",
              "      <td>1874-03-07</td>\n",
              "      <td>Scotland</td>\n",
              "      <td>England</td>\n",
              "      <td>2</td>\n",
              "      <td>1</td>\n",
              "      <td>Friendly</td>\n",
              "    </tr>\n",
              "    <tr>\n",
              "      <th>3</th>\n",
              "      <td>1875-03-06</td>\n",
              "      <td>England</td>\n",
              "      <td>Scotland</td>\n",
              "      <td>2</td>\n",
              "      <td>2</td>\n",
              "      <td>Friendly</td>\n",
              "    </tr>\n",
              "  </tbody>\n",
              "</table>\n",
              "</div>"
            ],
            "text/plain": [
              "        date home_team away_team  home_score  away_score tournament\n",
              "0 1872-11-30  Scotland   England           0           0   Friendly\n",
              "1 1873-03-08   England  Scotland           4           2   Friendly\n",
              "2 1874-03-07  Scotland   England           2           1   Friendly\n",
              "3 1875-03-06   England  Scotland           2           2   Friendly"
            ]
          },
          "metadata": {},
          "execution_count": 113
        }
      ]
    },
    {
      "cell_type": "code",
      "metadata": {
        "colab": {
          "base_uri": "https://localhost:8080/"
        },
        "id": "qUQh79bchhrm",
        "outputId": "763fca98-48fc-49eb-8843-dcead55475fd"
      },
      "source": [
        "score_df['date']=pd.to_datetime(score_df['date'])"
      ],
      "execution_count": 114,
      "outputs": [
        {
          "output_type": "stream",
          "name": "stderr",
          "text": [
            "/usr/local/lib/python3.7/dist-packages/ipykernel_launcher.py:1: SettingWithCopyWarning: \n",
            "A value is trying to be set on a copy of a slice from a DataFrame.\n",
            "Try using .loc[row_indexer,col_indexer] = value instead\n",
            "\n",
            "See the caveats in the documentation: https://pandas.pydata.org/pandas-docs/stable/user_guide/indexing.html#returning-a-view-versus-a-copy\n",
            "  \"\"\"Entry point for launching an IPython kernel.\n"
          ]
        }
      ]
    },
    {
      "cell_type": "code",
      "metadata": {
        "id": "O2WPcA12xCxi",
        "colab": {
          "base_uri": "https://localhost:8080/",
          "height": 81
        },
        "outputId": "d49c07cd-d5c3-4e64-bcd8-df74a8acc31f"
      },
      "source": [
        "#We will only use the score_df for dates that accur after 1993-08-08\n",
        "#As this is where the rank_df's rank_date column starts\n",
        "#\n",
        "score_df\n",
        "score_df.head(1)"
      ],
      "execution_count": 115,
      "outputs": [
        {
          "output_type": "execute_result",
          "data": {
            "text/html": [
              "<div>\n",
              "<style scoped>\n",
              "    .dataframe tbody tr th:only-of-type {\n",
              "        vertical-align: middle;\n",
              "    }\n",
              "\n",
              "    .dataframe tbody tr th {\n",
              "        vertical-align: top;\n",
              "    }\n",
              "\n",
              "    .dataframe thead th {\n",
              "        text-align: right;\n",
              "    }\n",
              "</style>\n",
              "<table border=\"1\" class=\"dataframe\">\n",
              "  <thead>\n",
              "    <tr style=\"text-align: right;\">\n",
              "      <th></th>\n",
              "      <th>date</th>\n",
              "      <th>home_team</th>\n",
              "      <th>away_team</th>\n",
              "      <th>home_score</th>\n",
              "      <th>away_score</th>\n",
              "      <th>tournament</th>\n",
              "    </tr>\n",
              "  </thead>\n",
              "  <tbody>\n",
              "    <tr>\n",
              "      <th>0</th>\n",
              "      <td>1872-11-30</td>\n",
              "      <td>Scotland</td>\n",
              "      <td>England</td>\n",
              "      <td>0</td>\n",
              "      <td>0</td>\n",
              "      <td>Friendly</td>\n",
              "    </tr>\n",
              "  </tbody>\n",
              "</table>\n",
              "</div>"
            ],
            "text/plain": [
              "        date home_team away_team  home_score  away_score tournament\n",
              "0 1872-11-30  Scotland   England           0           0   Friendly"
            ]
          },
          "metadata": {},
          "execution_count": 115
        }
      ]
    },
    {
      "cell_type": "code",
      "metadata": {
        "id": "92BJ49muq_oy",
        "colab": {
          "base_uri": "https://localhost:8080/"
        },
        "outputId": "8c9908eb-b255-4394-f383-4ed1837a07a5"
      },
      "source": [
        "#Checking and dropping duplicates\n",
        "#The ranks dataset\n",
        "rank_df.duplicated().sum()\n",
        "#Found 38\n",
        "rank_df.drop_duplicates(inplace=True)\n",
        "\n",
        "#The score dataset\n",
        "score_df.duplicated().sum()\n",
        "#Found 1\n",
        "score_df.drop_duplicates(inplace=True)"
      ],
      "execution_count": 116,
      "outputs": [
        {
          "output_type": "stream",
          "name": "stderr",
          "text": [
            "/usr/local/lib/python3.7/dist-packages/ipykernel_launcher.py:5: SettingWithCopyWarning: \n",
            "A value is trying to be set on a copy of a slice from a DataFrame\n",
            "\n",
            "See the caveats in the documentation: https://pandas.pydata.org/pandas-docs/stable/user_guide/indexing.html#returning-a-view-versus-a-copy\n",
            "  \"\"\"\n",
            "/usr/local/lib/python3.7/dist-packages/ipykernel_launcher.py:10: SettingWithCopyWarning: \n",
            "A value is trying to be set on a copy of a slice from a DataFrame\n",
            "\n",
            "See the caveats in the documentation: https://pandas.pydata.org/pandas-docs/stable/user_guide/indexing.html#returning-a-view-versus-a-copy\n",
            "  # Remove the CWD from sys.path while we load stuff.\n"
          ]
        }
      ]
    },
    {
      "cell_type": "code",
      "metadata": {
        "id": "BluThrXOJpFF",
        "colab": {
          "base_uri": "https://localhost:8080/",
          "height": 423
        },
        "outputId": "0a7cc659-f1e8-42d9-a8cd-edae7499bf17"
      },
      "source": [
        "#The rank_df dataset but with the country_full column renamed as away_team(for merging purposes) \n",
        "x=rank_df.drop(['home_team'],axis=1)\n",
        "x"
      ],
      "execution_count": 117,
      "outputs": [
        {
          "output_type": "execute_result",
          "data": {
            "text/html": [
              "<div>\n",
              "<style scoped>\n",
              "    .dataframe tbody tr th:only-of-type {\n",
              "        vertical-align: middle;\n",
              "    }\n",
              "\n",
              "    .dataframe tbody tr th {\n",
              "        vertical-align: top;\n",
              "    }\n",
              "\n",
              "    .dataframe thead th {\n",
              "        text-align: right;\n",
              "    }\n",
              "</style>\n",
              "<table border=\"1\" class=\"dataframe\">\n",
              "  <thead>\n",
              "    <tr style=\"text-align: right;\">\n",
              "      <th></th>\n",
              "      <th>country_full</th>\n",
              "      <th>rank</th>\n",
              "      <th>date</th>\n",
              "      <th>away_team</th>\n",
              "    </tr>\n",
              "  </thead>\n",
              "  <tbody>\n",
              "    <tr>\n",
              "      <th>0</th>\n",
              "      <td>Germany</td>\n",
              "      <td>1</td>\n",
              "      <td>1993-08-08</td>\n",
              "      <td>Germany</td>\n",
              "    </tr>\n",
              "    <tr>\n",
              "      <th>1</th>\n",
              "      <td>Italy</td>\n",
              "      <td>2</td>\n",
              "      <td>1993-08-08</td>\n",
              "      <td>Italy</td>\n",
              "    </tr>\n",
              "    <tr>\n",
              "      <th>2</th>\n",
              "      <td>Switzerland</td>\n",
              "      <td>3</td>\n",
              "      <td>1993-08-08</td>\n",
              "      <td>Switzerland</td>\n",
              "    </tr>\n",
              "    <tr>\n",
              "      <th>3</th>\n",
              "      <td>Sweden</td>\n",
              "      <td>4</td>\n",
              "      <td>1993-08-08</td>\n",
              "      <td>Sweden</td>\n",
              "    </tr>\n",
              "    <tr>\n",
              "      <th>4</th>\n",
              "      <td>Argentina</td>\n",
              "      <td>5</td>\n",
              "      <td>1993-08-08</td>\n",
              "      <td>Argentina</td>\n",
              "    </tr>\n",
              "    <tr>\n",
              "      <th>...</th>\n",
              "      <td>...</td>\n",
              "      <td>...</td>\n",
              "      <td>...</td>\n",
              "      <td>...</td>\n",
              "    </tr>\n",
              "    <tr>\n",
              "      <th>57788</th>\n",
              "      <td>Anguilla</td>\n",
              "      <td>206</td>\n",
              "      <td>2018-06-07</td>\n",
              "      <td>Anguilla</td>\n",
              "    </tr>\n",
              "    <tr>\n",
              "      <th>57789</th>\n",
              "      <td>Bahamas</td>\n",
              "      <td>206</td>\n",
              "      <td>2018-06-07</td>\n",
              "      <td>Bahamas</td>\n",
              "    </tr>\n",
              "    <tr>\n",
              "      <th>57790</th>\n",
              "      <td>Eritrea</td>\n",
              "      <td>206</td>\n",
              "      <td>2018-06-07</td>\n",
              "      <td>Eritrea</td>\n",
              "    </tr>\n",
              "    <tr>\n",
              "      <th>57791</th>\n",
              "      <td>Somalia</td>\n",
              "      <td>206</td>\n",
              "      <td>2018-06-07</td>\n",
              "      <td>Somalia</td>\n",
              "    </tr>\n",
              "    <tr>\n",
              "      <th>57792</th>\n",
              "      <td>Tonga</td>\n",
              "      <td>206</td>\n",
              "      <td>2018-06-07</td>\n",
              "      <td>Tonga</td>\n",
              "    </tr>\n",
              "  </tbody>\n",
              "</table>\n",
              "<p>57755 rows × 4 columns</p>\n",
              "</div>"
            ],
            "text/plain": [
              "      country_full  rank       date    away_team\n",
              "0          Germany     1 1993-08-08      Germany\n",
              "1            Italy     2 1993-08-08        Italy\n",
              "2      Switzerland     3 1993-08-08  Switzerland\n",
              "3           Sweden     4 1993-08-08       Sweden\n",
              "4        Argentina     5 1993-08-08    Argentina\n",
              "...            ...   ...        ...          ...\n",
              "57788     Anguilla   206 2018-06-07     Anguilla\n",
              "57789      Bahamas   206 2018-06-07      Bahamas\n",
              "57790      Eritrea   206 2018-06-07      Eritrea\n",
              "57791      Somalia   206 2018-06-07      Somalia\n",
              "57792        Tonga   206 2018-06-07        Tonga\n",
              "\n",
              "[57755 rows x 4 columns]"
            ]
          },
          "metadata": {},
          "execution_count": 117
        }
      ]
    },
    {
      "cell_type": "code",
      "metadata": {
        "id": "Un72r8s7iu_t",
        "colab": {
          "base_uri": "https://localhost:8080/",
          "height": 423
        },
        "outputId": "89e3da2d-f151-44d4-fdf3-369b0f191f5a"
      },
      "source": [
        "rank_df"
      ],
      "execution_count": 118,
      "outputs": [
        {
          "output_type": "execute_result",
          "data": {
            "text/html": [
              "<div>\n",
              "<style scoped>\n",
              "    .dataframe tbody tr th:only-of-type {\n",
              "        vertical-align: middle;\n",
              "    }\n",
              "\n",
              "    .dataframe tbody tr th {\n",
              "        vertical-align: top;\n",
              "    }\n",
              "\n",
              "    .dataframe thead th {\n",
              "        text-align: right;\n",
              "    }\n",
              "</style>\n",
              "<table border=\"1\" class=\"dataframe\">\n",
              "  <thead>\n",
              "    <tr style=\"text-align: right;\">\n",
              "      <th></th>\n",
              "      <th>country_full</th>\n",
              "      <th>rank</th>\n",
              "      <th>date</th>\n",
              "      <th>home_team</th>\n",
              "      <th>away_team</th>\n",
              "    </tr>\n",
              "  </thead>\n",
              "  <tbody>\n",
              "    <tr>\n",
              "      <th>0</th>\n",
              "      <td>Germany</td>\n",
              "      <td>1</td>\n",
              "      <td>1993-08-08</td>\n",
              "      <td>Germany</td>\n",
              "      <td>Germany</td>\n",
              "    </tr>\n",
              "    <tr>\n",
              "      <th>1</th>\n",
              "      <td>Italy</td>\n",
              "      <td>2</td>\n",
              "      <td>1993-08-08</td>\n",
              "      <td>Italy</td>\n",
              "      <td>Italy</td>\n",
              "    </tr>\n",
              "    <tr>\n",
              "      <th>2</th>\n",
              "      <td>Switzerland</td>\n",
              "      <td>3</td>\n",
              "      <td>1993-08-08</td>\n",
              "      <td>Switzerland</td>\n",
              "      <td>Switzerland</td>\n",
              "    </tr>\n",
              "    <tr>\n",
              "      <th>3</th>\n",
              "      <td>Sweden</td>\n",
              "      <td>4</td>\n",
              "      <td>1993-08-08</td>\n",
              "      <td>Sweden</td>\n",
              "      <td>Sweden</td>\n",
              "    </tr>\n",
              "    <tr>\n",
              "      <th>4</th>\n",
              "      <td>Argentina</td>\n",
              "      <td>5</td>\n",
              "      <td>1993-08-08</td>\n",
              "      <td>Argentina</td>\n",
              "      <td>Argentina</td>\n",
              "    </tr>\n",
              "    <tr>\n",
              "      <th>...</th>\n",
              "      <td>...</td>\n",
              "      <td>...</td>\n",
              "      <td>...</td>\n",
              "      <td>...</td>\n",
              "      <td>...</td>\n",
              "    </tr>\n",
              "    <tr>\n",
              "      <th>57788</th>\n",
              "      <td>Anguilla</td>\n",
              "      <td>206</td>\n",
              "      <td>2018-06-07</td>\n",
              "      <td>Anguilla</td>\n",
              "      <td>Anguilla</td>\n",
              "    </tr>\n",
              "    <tr>\n",
              "      <th>57789</th>\n",
              "      <td>Bahamas</td>\n",
              "      <td>206</td>\n",
              "      <td>2018-06-07</td>\n",
              "      <td>Bahamas</td>\n",
              "      <td>Bahamas</td>\n",
              "    </tr>\n",
              "    <tr>\n",
              "      <th>57790</th>\n",
              "      <td>Eritrea</td>\n",
              "      <td>206</td>\n",
              "      <td>2018-06-07</td>\n",
              "      <td>Eritrea</td>\n",
              "      <td>Eritrea</td>\n",
              "    </tr>\n",
              "    <tr>\n",
              "      <th>57791</th>\n",
              "      <td>Somalia</td>\n",
              "      <td>206</td>\n",
              "      <td>2018-06-07</td>\n",
              "      <td>Somalia</td>\n",
              "      <td>Somalia</td>\n",
              "    </tr>\n",
              "    <tr>\n",
              "      <th>57792</th>\n",
              "      <td>Tonga</td>\n",
              "      <td>206</td>\n",
              "      <td>2018-06-07</td>\n",
              "      <td>Tonga</td>\n",
              "      <td>Tonga</td>\n",
              "    </tr>\n",
              "  </tbody>\n",
              "</table>\n",
              "<p>57755 rows × 5 columns</p>\n",
              "</div>"
            ],
            "text/plain": [
              "      country_full  rank       date    home_team    away_team\n",
              "0          Germany     1 1993-08-08      Germany      Germany\n",
              "1            Italy     2 1993-08-08        Italy        Italy\n",
              "2      Switzerland     3 1993-08-08  Switzerland  Switzerland\n",
              "3           Sweden     4 1993-08-08       Sweden       Sweden\n",
              "4        Argentina     5 1993-08-08    Argentina    Argentina\n",
              "...            ...   ...        ...          ...          ...\n",
              "57788     Anguilla   206 2018-06-07     Anguilla     Anguilla\n",
              "57789      Bahamas   206 2018-06-07      Bahamas      Bahamas\n",
              "57790      Eritrea   206 2018-06-07      Eritrea      Eritrea\n",
              "57791      Somalia   206 2018-06-07      Somalia      Somalia\n",
              "57792        Tonga   206 2018-06-07        Tonga        Tonga\n",
              "\n",
              "[57755 rows x 5 columns]"
            ]
          },
          "metadata": {},
          "execution_count": 118
        }
      ]
    },
    {
      "cell_type": "code",
      "metadata": {
        "id": "-VZljnql0-lh",
        "colab": {
          "base_uri": "https://localhost:8080/",
          "height": 423
        },
        "outputId": "37ab554f-7a50-48e4-c79a-305a8d5d2b73"
      },
      "source": [
        "#First merger :the rank_df and the score_df datasets\n",
        "merged=score_df.merge(rank_df,how='inner',on=['date','home_team'])\n",
        "merged\n"
      ],
      "execution_count": 119,
      "outputs": [
        {
          "output_type": "execute_result",
          "data": {
            "text/html": [
              "<div>\n",
              "<style scoped>\n",
              "    .dataframe tbody tr th:only-of-type {\n",
              "        vertical-align: middle;\n",
              "    }\n",
              "\n",
              "    .dataframe tbody tr th {\n",
              "        vertical-align: top;\n",
              "    }\n",
              "\n",
              "    .dataframe thead th {\n",
              "        text-align: right;\n",
              "    }\n",
              "</style>\n",
              "<table border=\"1\" class=\"dataframe\">\n",
              "  <thead>\n",
              "    <tr style=\"text-align: right;\">\n",
              "      <th></th>\n",
              "      <th>date</th>\n",
              "      <th>home_team</th>\n",
              "      <th>away_team_x</th>\n",
              "      <th>home_score</th>\n",
              "      <th>away_score</th>\n",
              "      <th>tournament</th>\n",
              "      <th>country_full</th>\n",
              "      <th>rank</th>\n",
              "      <th>away_team_y</th>\n",
              "    </tr>\n",
              "  </thead>\n",
              "  <tbody>\n",
              "    <tr>\n",
              "      <th>0</th>\n",
              "      <td>1993-08-08</td>\n",
              "      <td>Bolivia</td>\n",
              "      <td>Uruguay</td>\n",
              "      <td>3</td>\n",
              "      <td>1</td>\n",
              "      <td>FIFA World Cup qualification</td>\n",
              "      <td>Bolivia</td>\n",
              "      <td>59</td>\n",
              "      <td>Bolivia</td>\n",
              "    </tr>\n",
              "    <tr>\n",
              "      <th>1</th>\n",
              "      <td>1993-08-08</td>\n",
              "      <td>Brazil</td>\n",
              "      <td>Mexico</td>\n",
              "      <td>1</td>\n",
              "      <td>1</td>\n",
              "      <td>Friendly</td>\n",
              "      <td>Brazil</td>\n",
              "      <td>8</td>\n",
              "      <td>Brazil</td>\n",
              "    </tr>\n",
              "    <tr>\n",
              "      <th>2</th>\n",
              "      <td>1993-08-08</td>\n",
              "      <td>Ecuador</td>\n",
              "      <td>Venezuela</td>\n",
              "      <td>5</td>\n",
              "      <td>0</td>\n",
              "      <td>FIFA World Cup qualification</td>\n",
              "      <td>Ecuador</td>\n",
              "      <td>35</td>\n",
              "      <td>Ecuador</td>\n",
              "    </tr>\n",
              "    <tr>\n",
              "      <th>3</th>\n",
              "      <td>1993-08-08</td>\n",
              "      <td>Guinea</td>\n",
              "      <td>Sierra Leone</td>\n",
              "      <td>1</td>\n",
              "      <td>0</td>\n",
              "      <td>Friendly</td>\n",
              "      <td>Guinea</td>\n",
              "      <td>65</td>\n",
              "      <td>Guinea</td>\n",
              "    </tr>\n",
              "    <tr>\n",
              "      <th>4</th>\n",
              "      <td>1993-08-08</td>\n",
              "      <td>Paraguay</td>\n",
              "      <td>Argentina</td>\n",
              "      <td>1</td>\n",
              "      <td>3</td>\n",
              "      <td>FIFA World Cup qualification</td>\n",
              "      <td>Paraguay</td>\n",
              "      <td>67</td>\n",
              "      <td>Paraguay</td>\n",
              "    </tr>\n",
              "    <tr>\n",
              "      <th>...</th>\n",
              "      <td>...</td>\n",
              "      <td>...</td>\n",
              "      <td>...</td>\n",
              "      <td>...</td>\n",
              "      <td>...</td>\n",
              "      <td>...</td>\n",
              "      <td>...</td>\n",
              "      <td>...</td>\n",
              "      <td>...</td>\n",
              "    </tr>\n",
              "    <tr>\n",
              "      <th>952</th>\n",
              "      <td>2018-06-07</td>\n",
              "      <td>England</td>\n",
              "      <td>Costa Rica</td>\n",
              "      <td>2</td>\n",
              "      <td>0</td>\n",
              "      <td>Friendly</td>\n",
              "      <td>England</td>\n",
              "      <td>12</td>\n",
              "      <td>England</td>\n",
              "    </tr>\n",
              "    <tr>\n",
              "      <th>953</th>\n",
              "      <td>2018-06-07</td>\n",
              "      <td>Uruguay</td>\n",
              "      <td>Uzbekistan</td>\n",
              "      <td>3</td>\n",
              "      <td>0</td>\n",
              "      <td>Friendly</td>\n",
              "      <td>Uruguay</td>\n",
              "      <td>14</td>\n",
              "      <td>Uruguay</td>\n",
              "    </tr>\n",
              "    <tr>\n",
              "      <th>954</th>\n",
              "      <td>2018-06-07</td>\n",
              "      <td>Portugal</td>\n",
              "      <td>Algeria</td>\n",
              "      <td>3</td>\n",
              "      <td>0</td>\n",
              "      <td>Friendly</td>\n",
              "      <td>Portugal</td>\n",
              "      <td>4</td>\n",
              "      <td>Portugal</td>\n",
              "    </tr>\n",
              "    <tr>\n",
              "      <th>955</th>\n",
              "      <td>2018-06-07</td>\n",
              "      <td>Iceland</td>\n",
              "      <td>Ghana</td>\n",
              "      <td>2</td>\n",
              "      <td>2</td>\n",
              "      <td>Friendly</td>\n",
              "      <td>Iceland</td>\n",
              "      <td>22</td>\n",
              "      <td>Iceland</td>\n",
              "    </tr>\n",
              "    <tr>\n",
              "      <th>956</th>\n",
              "      <td>2018-06-07</td>\n",
              "      <td>India</td>\n",
              "      <td>New Zealand</td>\n",
              "      <td>1</td>\n",
              "      <td>2</td>\n",
              "      <td>Intercontinental Cup</td>\n",
              "      <td>India</td>\n",
              "      <td>97</td>\n",
              "      <td>India</td>\n",
              "    </tr>\n",
              "  </tbody>\n",
              "</table>\n",
              "<p>957 rows × 9 columns</p>\n",
              "</div>"
            ],
            "text/plain": [
              "          date home_team   away_team_x  ...  country_full  rank away_team_y\n",
              "0   1993-08-08   Bolivia       Uruguay  ...       Bolivia    59     Bolivia\n",
              "1   1993-08-08    Brazil        Mexico  ...        Brazil     8      Brazil\n",
              "2   1993-08-08   Ecuador     Venezuela  ...       Ecuador    35     Ecuador\n",
              "3   1993-08-08    Guinea  Sierra Leone  ...        Guinea    65      Guinea\n",
              "4   1993-08-08  Paraguay     Argentina  ...      Paraguay    67    Paraguay\n",
              "..         ...       ...           ...  ...           ...   ...         ...\n",
              "952 2018-06-07   England    Costa Rica  ...       England    12     England\n",
              "953 2018-06-07   Uruguay    Uzbekistan  ...       Uruguay    14     Uruguay\n",
              "954 2018-06-07  Portugal       Algeria  ...      Portugal     4    Portugal\n",
              "955 2018-06-07   Iceland         Ghana  ...       Iceland    22     Iceland\n",
              "956 2018-06-07     India   New Zealand  ...         India    97       India\n",
              "\n",
              "[957 rows x 9 columns]"
            ]
          },
          "metadata": {},
          "execution_count": 119
        }
      ]
    },
    {
      "cell_type": "code",
      "metadata": {
        "id": "6sSRtOi6G5ev",
        "colab": {
          "base_uri": "https://localhost:8080/",
          "height": 423
        },
        "outputId": "f18c0518-5f93-407a-df25-4a0890f1032b"
      },
      "source": [
        "#Renaming columns of the first merger and performing third merger(merged dataset and the x dataset )\n",
        "merged.drop(['away_team_y'],axis=1,inplace=True)\n",
        "merged.rename(columns={'away_team_x':'away_team'},inplace=True)\n",
        "merged\n",
        "merged_df= merged.merge(x,how='inner', on=['date','away_team'])\n",
        "merged_df"
      ],
      "execution_count": 120,
      "outputs": [
        {
          "output_type": "execute_result",
          "data": {
            "text/html": [
              "<div>\n",
              "<style scoped>\n",
              "    .dataframe tbody tr th:only-of-type {\n",
              "        vertical-align: middle;\n",
              "    }\n",
              "\n",
              "    .dataframe tbody tr th {\n",
              "        vertical-align: top;\n",
              "    }\n",
              "\n",
              "    .dataframe thead th {\n",
              "        text-align: right;\n",
              "    }\n",
              "</style>\n",
              "<table border=\"1\" class=\"dataframe\">\n",
              "  <thead>\n",
              "    <tr style=\"text-align: right;\">\n",
              "      <th></th>\n",
              "      <th>date</th>\n",
              "      <th>home_team</th>\n",
              "      <th>away_team</th>\n",
              "      <th>home_score</th>\n",
              "      <th>away_score</th>\n",
              "      <th>tournament</th>\n",
              "      <th>country_full_x</th>\n",
              "      <th>rank_x</th>\n",
              "      <th>country_full_y</th>\n",
              "      <th>rank_y</th>\n",
              "    </tr>\n",
              "  </thead>\n",
              "  <tbody>\n",
              "    <tr>\n",
              "      <th>0</th>\n",
              "      <td>1993-08-08</td>\n",
              "      <td>Bolivia</td>\n",
              "      <td>Uruguay</td>\n",
              "      <td>3</td>\n",
              "      <td>1</td>\n",
              "      <td>FIFA World Cup qualification</td>\n",
              "      <td>Bolivia</td>\n",
              "      <td>59</td>\n",
              "      <td>Uruguay</td>\n",
              "      <td>22</td>\n",
              "    </tr>\n",
              "    <tr>\n",
              "      <th>1</th>\n",
              "      <td>1993-08-08</td>\n",
              "      <td>Brazil</td>\n",
              "      <td>Mexico</td>\n",
              "      <td>1</td>\n",
              "      <td>1</td>\n",
              "      <td>Friendly</td>\n",
              "      <td>Brazil</td>\n",
              "      <td>8</td>\n",
              "      <td>Mexico</td>\n",
              "      <td>14</td>\n",
              "    </tr>\n",
              "    <tr>\n",
              "      <th>2</th>\n",
              "      <td>1993-08-08</td>\n",
              "      <td>Ecuador</td>\n",
              "      <td>Venezuela</td>\n",
              "      <td>5</td>\n",
              "      <td>0</td>\n",
              "      <td>FIFA World Cup qualification</td>\n",
              "      <td>Ecuador</td>\n",
              "      <td>35</td>\n",
              "      <td>Venezuela</td>\n",
              "      <td>94</td>\n",
              "    </tr>\n",
              "    <tr>\n",
              "      <th>3</th>\n",
              "      <td>1993-08-08</td>\n",
              "      <td>Guinea</td>\n",
              "      <td>Sierra Leone</td>\n",
              "      <td>1</td>\n",
              "      <td>0</td>\n",
              "      <td>Friendly</td>\n",
              "      <td>Guinea</td>\n",
              "      <td>65</td>\n",
              "      <td>Sierra Leone</td>\n",
              "      <td>86</td>\n",
              "    </tr>\n",
              "    <tr>\n",
              "      <th>4</th>\n",
              "      <td>1993-08-08</td>\n",
              "      <td>Paraguay</td>\n",
              "      <td>Argentina</td>\n",
              "      <td>1</td>\n",
              "      <td>3</td>\n",
              "      <td>FIFA World Cup qualification</td>\n",
              "      <td>Paraguay</td>\n",
              "      <td>67</td>\n",
              "      <td>Argentina</td>\n",
              "      <td>5</td>\n",
              "    </tr>\n",
              "    <tr>\n",
              "      <th>...</th>\n",
              "      <td>...</td>\n",
              "      <td>...</td>\n",
              "      <td>...</td>\n",
              "      <td>...</td>\n",
              "      <td>...</td>\n",
              "      <td>...</td>\n",
              "      <td>...</td>\n",
              "      <td>...</td>\n",
              "      <td>...</td>\n",
              "      <td>...</td>\n",
              "    </tr>\n",
              "    <tr>\n",
              "      <th>866</th>\n",
              "      <td>2018-06-07</td>\n",
              "      <td>England</td>\n",
              "      <td>Costa Rica</td>\n",
              "      <td>2</td>\n",
              "      <td>0</td>\n",
              "      <td>Friendly</td>\n",
              "      <td>England</td>\n",
              "      <td>12</td>\n",
              "      <td>Costa Rica</td>\n",
              "      <td>23</td>\n",
              "    </tr>\n",
              "    <tr>\n",
              "      <th>867</th>\n",
              "      <td>2018-06-07</td>\n",
              "      <td>Uruguay</td>\n",
              "      <td>Uzbekistan</td>\n",
              "      <td>3</td>\n",
              "      <td>0</td>\n",
              "      <td>Friendly</td>\n",
              "      <td>Uruguay</td>\n",
              "      <td>14</td>\n",
              "      <td>Uzbekistan</td>\n",
              "      <td>95</td>\n",
              "    </tr>\n",
              "    <tr>\n",
              "      <th>868</th>\n",
              "      <td>2018-06-07</td>\n",
              "      <td>Portugal</td>\n",
              "      <td>Algeria</td>\n",
              "      <td>3</td>\n",
              "      <td>0</td>\n",
              "      <td>Friendly</td>\n",
              "      <td>Portugal</td>\n",
              "      <td>4</td>\n",
              "      <td>Algeria</td>\n",
              "      <td>66</td>\n",
              "    </tr>\n",
              "    <tr>\n",
              "      <th>869</th>\n",
              "      <td>2018-06-07</td>\n",
              "      <td>Iceland</td>\n",
              "      <td>Ghana</td>\n",
              "      <td>2</td>\n",
              "      <td>2</td>\n",
              "      <td>Friendly</td>\n",
              "      <td>Iceland</td>\n",
              "      <td>22</td>\n",
              "      <td>Ghana</td>\n",
              "      <td>47</td>\n",
              "    </tr>\n",
              "    <tr>\n",
              "      <th>870</th>\n",
              "      <td>2018-06-07</td>\n",
              "      <td>India</td>\n",
              "      <td>New Zealand</td>\n",
              "      <td>1</td>\n",
              "      <td>2</td>\n",
              "      <td>Intercontinental Cup</td>\n",
              "      <td>India</td>\n",
              "      <td>97</td>\n",
              "      <td>New Zealand</td>\n",
              "      <td>120</td>\n",
              "    </tr>\n",
              "  </tbody>\n",
              "</table>\n",
              "<p>871 rows × 10 columns</p>\n",
              "</div>"
            ],
            "text/plain": [
              "          date home_team     away_team  ...  rank_x  country_full_y rank_y\n",
              "0   1993-08-08   Bolivia       Uruguay  ...      59         Uruguay     22\n",
              "1   1993-08-08    Brazil        Mexico  ...       8          Mexico     14\n",
              "2   1993-08-08   Ecuador     Venezuela  ...      35       Venezuela     94\n",
              "3   1993-08-08    Guinea  Sierra Leone  ...      65    Sierra Leone     86\n",
              "4   1993-08-08  Paraguay     Argentina  ...      67       Argentina      5\n",
              "..         ...       ...           ...  ...     ...             ...    ...\n",
              "866 2018-06-07   England    Costa Rica  ...      12      Costa Rica     23\n",
              "867 2018-06-07   Uruguay    Uzbekistan  ...      14      Uzbekistan     95\n",
              "868 2018-06-07  Portugal       Algeria  ...       4         Algeria     66\n",
              "869 2018-06-07   Iceland         Ghana  ...      22           Ghana     47\n",
              "870 2018-06-07     India   New Zealand  ...      97     New Zealand    120\n",
              "\n",
              "[871 rows x 10 columns]"
            ]
          },
          "metadata": {},
          "execution_count": 120
        }
      ]
    },
    {
      "cell_type": "code",
      "metadata": {
        "id": "YaowuI6eLehn",
        "colab": {
          "base_uri": "https://localhost:8080/",
          "height": 423
        },
        "outputId": "4c416e7f-ac27-4a54-8b12-f79961817df4"
      },
      "source": [
        "#Renaming columns\n",
        "merged_df.rename(columns={'rank_x':'home_rank','rank_y':'away_rank'},inplace=True)\n",
        "merged_df"
      ],
      "execution_count": 121,
      "outputs": [
        {
          "output_type": "execute_result",
          "data": {
            "text/html": [
              "<div>\n",
              "<style scoped>\n",
              "    .dataframe tbody tr th:only-of-type {\n",
              "        vertical-align: middle;\n",
              "    }\n",
              "\n",
              "    .dataframe tbody tr th {\n",
              "        vertical-align: top;\n",
              "    }\n",
              "\n",
              "    .dataframe thead th {\n",
              "        text-align: right;\n",
              "    }\n",
              "</style>\n",
              "<table border=\"1\" class=\"dataframe\">\n",
              "  <thead>\n",
              "    <tr style=\"text-align: right;\">\n",
              "      <th></th>\n",
              "      <th>date</th>\n",
              "      <th>home_team</th>\n",
              "      <th>away_team</th>\n",
              "      <th>home_score</th>\n",
              "      <th>away_score</th>\n",
              "      <th>tournament</th>\n",
              "      <th>country_full_x</th>\n",
              "      <th>home_rank</th>\n",
              "      <th>country_full_y</th>\n",
              "      <th>away_rank</th>\n",
              "    </tr>\n",
              "  </thead>\n",
              "  <tbody>\n",
              "    <tr>\n",
              "      <th>0</th>\n",
              "      <td>1993-08-08</td>\n",
              "      <td>Bolivia</td>\n",
              "      <td>Uruguay</td>\n",
              "      <td>3</td>\n",
              "      <td>1</td>\n",
              "      <td>FIFA World Cup qualification</td>\n",
              "      <td>Bolivia</td>\n",
              "      <td>59</td>\n",
              "      <td>Uruguay</td>\n",
              "      <td>22</td>\n",
              "    </tr>\n",
              "    <tr>\n",
              "      <th>1</th>\n",
              "      <td>1993-08-08</td>\n",
              "      <td>Brazil</td>\n",
              "      <td>Mexico</td>\n",
              "      <td>1</td>\n",
              "      <td>1</td>\n",
              "      <td>Friendly</td>\n",
              "      <td>Brazil</td>\n",
              "      <td>8</td>\n",
              "      <td>Mexico</td>\n",
              "      <td>14</td>\n",
              "    </tr>\n",
              "    <tr>\n",
              "      <th>2</th>\n",
              "      <td>1993-08-08</td>\n",
              "      <td>Ecuador</td>\n",
              "      <td>Venezuela</td>\n",
              "      <td>5</td>\n",
              "      <td>0</td>\n",
              "      <td>FIFA World Cup qualification</td>\n",
              "      <td>Ecuador</td>\n",
              "      <td>35</td>\n",
              "      <td>Venezuela</td>\n",
              "      <td>94</td>\n",
              "    </tr>\n",
              "    <tr>\n",
              "      <th>3</th>\n",
              "      <td>1993-08-08</td>\n",
              "      <td>Guinea</td>\n",
              "      <td>Sierra Leone</td>\n",
              "      <td>1</td>\n",
              "      <td>0</td>\n",
              "      <td>Friendly</td>\n",
              "      <td>Guinea</td>\n",
              "      <td>65</td>\n",
              "      <td>Sierra Leone</td>\n",
              "      <td>86</td>\n",
              "    </tr>\n",
              "    <tr>\n",
              "      <th>4</th>\n",
              "      <td>1993-08-08</td>\n",
              "      <td>Paraguay</td>\n",
              "      <td>Argentina</td>\n",
              "      <td>1</td>\n",
              "      <td>3</td>\n",
              "      <td>FIFA World Cup qualification</td>\n",
              "      <td>Paraguay</td>\n",
              "      <td>67</td>\n",
              "      <td>Argentina</td>\n",
              "      <td>5</td>\n",
              "    </tr>\n",
              "    <tr>\n",
              "      <th>...</th>\n",
              "      <td>...</td>\n",
              "      <td>...</td>\n",
              "      <td>...</td>\n",
              "      <td>...</td>\n",
              "      <td>...</td>\n",
              "      <td>...</td>\n",
              "      <td>...</td>\n",
              "      <td>...</td>\n",
              "      <td>...</td>\n",
              "      <td>...</td>\n",
              "    </tr>\n",
              "    <tr>\n",
              "      <th>866</th>\n",
              "      <td>2018-06-07</td>\n",
              "      <td>England</td>\n",
              "      <td>Costa Rica</td>\n",
              "      <td>2</td>\n",
              "      <td>0</td>\n",
              "      <td>Friendly</td>\n",
              "      <td>England</td>\n",
              "      <td>12</td>\n",
              "      <td>Costa Rica</td>\n",
              "      <td>23</td>\n",
              "    </tr>\n",
              "    <tr>\n",
              "      <th>867</th>\n",
              "      <td>2018-06-07</td>\n",
              "      <td>Uruguay</td>\n",
              "      <td>Uzbekistan</td>\n",
              "      <td>3</td>\n",
              "      <td>0</td>\n",
              "      <td>Friendly</td>\n",
              "      <td>Uruguay</td>\n",
              "      <td>14</td>\n",
              "      <td>Uzbekistan</td>\n",
              "      <td>95</td>\n",
              "    </tr>\n",
              "    <tr>\n",
              "      <th>868</th>\n",
              "      <td>2018-06-07</td>\n",
              "      <td>Portugal</td>\n",
              "      <td>Algeria</td>\n",
              "      <td>3</td>\n",
              "      <td>0</td>\n",
              "      <td>Friendly</td>\n",
              "      <td>Portugal</td>\n",
              "      <td>4</td>\n",
              "      <td>Algeria</td>\n",
              "      <td>66</td>\n",
              "    </tr>\n",
              "    <tr>\n",
              "      <th>869</th>\n",
              "      <td>2018-06-07</td>\n",
              "      <td>Iceland</td>\n",
              "      <td>Ghana</td>\n",
              "      <td>2</td>\n",
              "      <td>2</td>\n",
              "      <td>Friendly</td>\n",
              "      <td>Iceland</td>\n",
              "      <td>22</td>\n",
              "      <td>Ghana</td>\n",
              "      <td>47</td>\n",
              "    </tr>\n",
              "    <tr>\n",
              "      <th>870</th>\n",
              "      <td>2018-06-07</td>\n",
              "      <td>India</td>\n",
              "      <td>New Zealand</td>\n",
              "      <td>1</td>\n",
              "      <td>2</td>\n",
              "      <td>Intercontinental Cup</td>\n",
              "      <td>India</td>\n",
              "      <td>97</td>\n",
              "      <td>New Zealand</td>\n",
              "      <td>120</td>\n",
              "    </tr>\n",
              "  </tbody>\n",
              "</table>\n",
              "<p>871 rows × 10 columns</p>\n",
              "</div>"
            ],
            "text/plain": [
              "          date home_team     away_team  ...  home_rank  country_full_y away_rank\n",
              "0   1993-08-08   Bolivia       Uruguay  ...         59         Uruguay        22\n",
              "1   1993-08-08    Brazil        Mexico  ...          8          Mexico        14\n",
              "2   1993-08-08   Ecuador     Venezuela  ...         35       Venezuela        94\n",
              "3   1993-08-08    Guinea  Sierra Leone  ...         65    Sierra Leone        86\n",
              "4   1993-08-08  Paraguay     Argentina  ...         67       Argentina         5\n",
              "..         ...       ...           ...  ...        ...             ...       ...\n",
              "866 2018-06-07   England    Costa Rica  ...         12      Costa Rica        23\n",
              "867 2018-06-07   Uruguay    Uzbekistan  ...         14      Uzbekistan        95\n",
              "868 2018-06-07  Portugal       Algeria  ...          4         Algeria        66\n",
              "869 2018-06-07   Iceland         Ghana  ...         22           Ghana        47\n",
              "870 2018-06-07     India   New Zealand  ...         97     New Zealand       120\n",
              "\n",
              "[871 rows x 10 columns]"
            ]
          },
          "metadata": {},
          "execution_count": 121
        }
      ]
    },
    {
      "cell_type": "code",
      "metadata": {
        "id": "6zcsLed9L8AZ"
      },
      "source": [
        "def status(row):\n",
        "  for i in merged_df.iterrows():\n",
        "    if (row['home_score'] > row['away_score']):\n",
        "      return  str('Win')\n",
        "    elif (row['home_score'] < row['away_score']):\n",
        "      return  str('Loss')\n",
        "    else:\n",
        "      return str('Draw')\n",
        "\n",
        "merged_df['Status']=merged_df.apply(status,axis=1) \n"
      ],
      "execution_count": 122,
      "outputs": []
    },
    {
      "cell_type": "code",
      "metadata": {
        "id": "ruicODWmgZ0V"
      },
      "source": [
        "#Creating a numerical column that indicates (1 : if tournament is a Friendly, and 2: if not a Friendly)\n",
        "def typ(row):\n",
        "  for i in merged_df.iterrows():\n",
        "    if row['tournament']== 'Friendly':\n",
        "      return  int(1)\n",
        "    else :\n",
        "      return  int(0)\n",
        "\n",
        "merged_df['Tournament_type']=merged_df.apply(typ,axis=1) "
      ],
      "execution_count": 123,
      "outputs": []
    },
    {
      "cell_type": "code",
      "metadata": {
        "id": "-2vMCthKNuDb",
        "colab": {
          "base_uri": "https://localhost:8080/",
          "height": 423
        },
        "outputId": "a211c600-07cc-4d61-8ae6-8b5438b2d162"
      },
      "source": [
        "#Dropping unnecessary columns\n",
        "merged_df.drop(['country_full_y','country_full_x'],axis=1,inplace=True)\n",
        "merged_df"
      ],
      "execution_count": 124,
      "outputs": [
        {
          "output_type": "execute_result",
          "data": {
            "text/html": [
              "<div>\n",
              "<style scoped>\n",
              "    .dataframe tbody tr th:only-of-type {\n",
              "        vertical-align: middle;\n",
              "    }\n",
              "\n",
              "    .dataframe tbody tr th {\n",
              "        vertical-align: top;\n",
              "    }\n",
              "\n",
              "    .dataframe thead th {\n",
              "        text-align: right;\n",
              "    }\n",
              "</style>\n",
              "<table border=\"1\" class=\"dataframe\">\n",
              "  <thead>\n",
              "    <tr style=\"text-align: right;\">\n",
              "      <th></th>\n",
              "      <th>date</th>\n",
              "      <th>home_team</th>\n",
              "      <th>away_team</th>\n",
              "      <th>home_score</th>\n",
              "      <th>away_score</th>\n",
              "      <th>tournament</th>\n",
              "      <th>home_rank</th>\n",
              "      <th>away_rank</th>\n",
              "      <th>Status</th>\n",
              "      <th>Tournament_type</th>\n",
              "    </tr>\n",
              "  </thead>\n",
              "  <tbody>\n",
              "    <tr>\n",
              "      <th>0</th>\n",
              "      <td>1993-08-08</td>\n",
              "      <td>Bolivia</td>\n",
              "      <td>Uruguay</td>\n",
              "      <td>3</td>\n",
              "      <td>1</td>\n",
              "      <td>FIFA World Cup qualification</td>\n",
              "      <td>59</td>\n",
              "      <td>22</td>\n",
              "      <td>Win</td>\n",
              "      <td>0</td>\n",
              "    </tr>\n",
              "    <tr>\n",
              "      <th>1</th>\n",
              "      <td>1993-08-08</td>\n",
              "      <td>Brazil</td>\n",
              "      <td>Mexico</td>\n",
              "      <td>1</td>\n",
              "      <td>1</td>\n",
              "      <td>Friendly</td>\n",
              "      <td>8</td>\n",
              "      <td>14</td>\n",
              "      <td>Draw</td>\n",
              "      <td>1</td>\n",
              "    </tr>\n",
              "    <tr>\n",
              "      <th>2</th>\n",
              "      <td>1993-08-08</td>\n",
              "      <td>Ecuador</td>\n",
              "      <td>Venezuela</td>\n",
              "      <td>5</td>\n",
              "      <td>0</td>\n",
              "      <td>FIFA World Cup qualification</td>\n",
              "      <td>35</td>\n",
              "      <td>94</td>\n",
              "      <td>Win</td>\n",
              "      <td>0</td>\n",
              "    </tr>\n",
              "    <tr>\n",
              "      <th>3</th>\n",
              "      <td>1993-08-08</td>\n",
              "      <td>Guinea</td>\n",
              "      <td>Sierra Leone</td>\n",
              "      <td>1</td>\n",
              "      <td>0</td>\n",
              "      <td>Friendly</td>\n",
              "      <td>65</td>\n",
              "      <td>86</td>\n",
              "      <td>Win</td>\n",
              "      <td>1</td>\n",
              "    </tr>\n",
              "    <tr>\n",
              "      <th>4</th>\n",
              "      <td>1993-08-08</td>\n",
              "      <td>Paraguay</td>\n",
              "      <td>Argentina</td>\n",
              "      <td>1</td>\n",
              "      <td>3</td>\n",
              "      <td>FIFA World Cup qualification</td>\n",
              "      <td>67</td>\n",
              "      <td>5</td>\n",
              "      <td>Loss</td>\n",
              "      <td>0</td>\n",
              "    </tr>\n",
              "    <tr>\n",
              "      <th>...</th>\n",
              "      <td>...</td>\n",
              "      <td>...</td>\n",
              "      <td>...</td>\n",
              "      <td>...</td>\n",
              "      <td>...</td>\n",
              "      <td>...</td>\n",
              "      <td>...</td>\n",
              "      <td>...</td>\n",
              "      <td>...</td>\n",
              "      <td>...</td>\n",
              "    </tr>\n",
              "    <tr>\n",
              "      <th>866</th>\n",
              "      <td>2018-06-07</td>\n",
              "      <td>England</td>\n",
              "      <td>Costa Rica</td>\n",
              "      <td>2</td>\n",
              "      <td>0</td>\n",
              "      <td>Friendly</td>\n",
              "      <td>12</td>\n",
              "      <td>23</td>\n",
              "      <td>Win</td>\n",
              "      <td>1</td>\n",
              "    </tr>\n",
              "    <tr>\n",
              "      <th>867</th>\n",
              "      <td>2018-06-07</td>\n",
              "      <td>Uruguay</td>\n",
              "      <td>Uzbekistan</td>\n",
              "      <td>3</td>\n",
              "      <td>0</td>\n",
              "      <td>Friendly</td>\n",
              "      <td>14</td>\n",
              "      <td>95</td>\n",
              "      <td>Win</td>\n",
              "      <td>1</td>\n",
              "    </tr>\n",
              "    <tr>\n",
              "      <th>868</th>\n",
              "      <td>2018-06-07</td>\n",
              "      <td>Portugal</td>\n",
              "      <td>Algeria</td>\n",
              "      <td>3</td>\n",
              "      <td>0</td>\n",
              "      <td>Friendly</td>\n",
              "      <td>4</td>\n",
              "      <td>66</td>\n",
              "      <td>Win</td>\n",
              "      <td>1</td>\n",
              "    </tr>\n",
              "    <tr>\n",
              "      <th>869</th>\n",
              "      <td>2018-06-07</td>\n",
              "      <td>Iceland</td>\n",
              "      <td>Ghana</td>\n",
              "      <td>2</td>\n",
              "      <td>2</td>\n",
              "      <td>Friendly</td>\n",
              "      <td>22</td>\n",
              "      <td>47</td>\n",
              "      <td>Draw</td>\n",
              "      <td>1</td>\n",
              "    </tr>\n",
              "    <tr>\n",
              "      <th>870</th>\n",
              "      <td>2018-06-07</td>\n",
              "      <td>India</td>\n",
              "      <td>New Zealand</td>\n",
              "      <td>1</td>\n",
              "      <td>2</td>\n",
              "      <td>Intercontinental Cup</td>\n",
              "      <td>97</td>\n",
              "      <td>120</td>\n",
              "      <td>Loss</td>\n",
              "      <td>0</td>\n",
              "    </tr>\n",
              "  </tbody>\n",
              "</table>\n",
              "<p>871 rows × 10 columns</p>\n",
              "</div>"
            ],
            "text/plain": [
              "          date home_team     away_team  ...  away_rank  Status Tournament_type\n",
              "0   1993-08-08   Bolivia       Uruguay  ...         22     Win               0\n",
              "1   1993-08-08    Brazil        Mexico  ...         14    Draw               1\n",
              "2   1993-08-08   Ecuador     Venezuela  ...         94     Win               0\n",
              "3   1993-08-08    Guinea  Sierra Leone  ...         86     Win               1\n",
              "4   1993-08-08  Paraguay     Argentina  ...          5    Loss               0\n",
              "..         ...       ...           ...  ...        ...     ...             ...\n",
              "866 2018-06-07   England    Costa Rica  ...         23     Win               1\n",
              "867 2018-06-07   Uruguay    Uzbekistan  ...         95     Win               1\n",
              "868 2018-06-07  Portugal       Algeria  ...         66     Win               1\n",
              "869 2018-06-07   Iceland         Ghana  ...         47    Draw               1\n",
              "870 2018-06-07     India   New Zealand  ...        120    Loss               0\n",
              "\n",
              "[871 rows x 10 columns]"
            ]
          },
          "metadata": {},
          "execution_count": 124
        }
      ]
    },
    {
      "cell_type": "code",
      "metadata": {
        "id": "3TfxIGv3p16Z",
        "colab": {
          "base_uri": "https://localhost:8080/"
        },
        "outputId": "8f407f09-c2ed-47e2-a5a1-5bfc71742d9a"
      },
      "source": [
        "#Checking for null values.\n",
        "merged_df.isnull().sum()"
      ],
      "execution_count": 125,
      "outputs": [
        {
          "output_type": "execute_result",
          "data": {
            "text/plain": [
              "date               0\n",
              "home_team          0\n",
              "away_team          0\n",
              "home_score         0\n",
              "away_score         0\n",
              "tournament         0\n",
              "home_rank          0\n",
              "away_rank          0\n",
              "Status             0\n",
              "Tournament_type    0\n",
              "dtype: int64"
            ]
          },
          "metadata": {},
          "execution_count": 125
        }
      ]
    },
    {
      "cell_type": "markdown",
      "metadata": {
        "id": "nBLQbyMm3Zly"
      },
      "source": [
        "##Univariate analysis"
      ]
    },
    {
      "cell_type": "code",
      "metadata": {
        "id": "6s7fGUOB3Xlr",
        "colab": {
          "base_uri": "https://localhost:8080/",
          "height": 300
        },
        "outputId": "1db2cbf0-508a-4e6d-806a-8cae77e8f952"
      },
      "source": [
        "#Checking descriptive summaries of all numerical columns.\n",
        "merged_df.describe()"
      ],
      "execution_count": 126,
      "outputs": [
        {
          "output_type": "execute_result",
          "data": {
            "text/html": [
              "<div>\n",
              "<style scoped>\n",
              "    .dataframe tbody tr th:only-of-type {\n",
              "        vertical-align: middle;\n",
              "    }\n",
              "\n",
              "    .dataframe tbody tr th {\n",
              "        vertical-align: top;\n",
              "    }\n",
              "\n",
              "    .dataframe thead th {\n",
              "        text-align: right;\n",
              "    }\n",
              "</style>\n",
              "<table border=\"1\" class=\"dataframe\">\n",
              "  <thead>\n",
              "    <tr style=\"text-align: right;\">\n",
              "      <th></th>\n",
              "      <th>home_score</th>\n",
              "      <th>away_score</th>\n",
              "      <th>home_rank</th>\n",
              "      <th>away_rank</th>\n",
              "      <th>Tournament_type</th>\n",
              "    </tr>\n",
              "  </thead>\n",
              "  <tbody>\n",
              "    <tr>\n",
              "      <th>count</th>\n",
              "      <td>871.000000</td>\n",
              "      <td>871.000000</td>\n",
              "      <td>871.000000</td>\n",
              "      <td>871.000000</td>\n",
              "      <td>871.000000</td>\n",
              "    </tr>\n",
              "    <tr>\n",
              "      <th>mean</th>\n",
              "      <td>1.632606</td>\n",
              "      <td>1.004592</td>\n",
              "      <td>65.549943</td>\n",
              "      <td>69.918485</td>\n",
              "      <td>0.659013</td>\n",
              "    </tr>\n",
              "    <tr>\n",
              "      <th>std</th>\n",
              "      <td>1.905960</td>\n",
              "      <td>1.154691</td>\n",
              "      <td>47.557993</td>\n",
              "      <td>50.497652</td>\n",
              "      <td>0.474313</td>\n",
              "    </tr>\n",
              "    <tr>\n",
              "      <th>min</th>\n",
              "      <td>0.000000</td>\n",
              "      <td>0.000000</td>\n",
              "      <td>1.000000</td>\n",
              "      <td>1.000000</td>\n",
              "      <td>0.000000</td>\n",
              "    </tr>\n",
              "    <tr>\n",
              "      <th>25%</th>\n",
              "      <td>0.000000</td>\n",
              "      <td>0.000000</td>\n",
              "      <td>27.000000</td>\n",
              "      <td>28.000000</td>\n",
              "      <td>0.000000</td>\n",
              "    </tr>\n",
              "    <tr>\n",
              "      <th>50%</th>\n",
              "      <td>1.000000</td>\n",
              "      <td>1.000000</td>\n",
              "      <td>58.000000</td>\n",
              "      <td>61.000000</td>\n",
              "      <td>1.000000</td>\n",
              "    </tr>\n",
              "    <tr>\n",
              "      <th>75%</th>\n",
              "      <td>2.000000</td>\n",
              "      <td>2.000000</td>\n",
              "      <td>95.000000</td>\n",
              "      <td>102.500000</td>\n",
              "      <td>1.000000</td>\n",
              "    </tr>\n",
              "    <tr>\n",
              "      <th>max</th>\n",
              "      <td>31.000000</td>\n",
              "      <td>9.000000</td>\n",
              "      <td>206.000000</td>\n",
              "      <td>209.000000</td>\n",
              "      <td>1.000000</td>\n",
              "    </tr>\n",
              "  </tbody>\n",
              "</table>\n",
              "</div>"
            ],
            "text/plain": [
              "       home_score  away_score   home_rank   away_rank  Tournament_type\n",
              "count  871.000000  871.000000  871.000000  871.000000       871.000000\n",
              "mean     1.632606    1.004592   65.549943   69.918485         0.659013\n",
              "std      1.905960    1.154691   47.557993   50.497652         0.474313\n",
              "min      0.000000    0.000000    1.000000    1.000000         0.000000\n",
              "25%      0.000000    0.000000   27.000000   28.000000         0.000000\n",
              "50%      1.000000    1.000000   58.000000   61.000000         1.000000\n",
              "75%      2.000000    2.000000   95.000000  102.500000         1.000000\n",
              "max     31.000000    9.000000  206.000000  209.000000         1.000000"
            ]
          },
          "metadata": {},
          "execution_count": 126
        }
      ]
    },
    {
      "cell_type": "code",
      "metadata": {
        "id": "85ZvjiLU70ii"
      },
      "source": [
        "import seaborn as sns"
      ],
      "execution_count": 127,
      "outputs": []
    },
    {
      "cell_type": "code",
      "metadata": {
        "id": "yBkbNN8J78HE",
        "colab": {
          "base_uri": "https://localhost:8080/"
        },
        "outputId": "e2797e23-27c1-48f8-ebc0-e003dcaacfbc"
      },
      "source": [
        "sns.histplot"
      ],
      "execution_count": 128,
      "outputs": [
        {
          "output_type": "execute_result",
          "data": {
            "text/plain": [
              "<function seaborn.distributions.histplot>"
            ]
          },
          "metadata": {},
          "execution_count": 128
        }
      ]
    },
    {
      "cell_type": "code",
      "metadata": {
        "id": "Hqb1FVIy78D1"
      },
      "source": [
        ""
      ],
      "execution_count": 128,
      "outputs": []
    },
    {
      "cell_type": "code",
      "metadata": {
        "id": "EvRBaeJN4HMv",
        "colab": {
          "base_uri": "https://localhost:8080/",
          "height": 1000
        },
        "outputId": "cafa18e7-7c17-4319-f08e-8028283e2b2a"
      },
      "source": [
        "#Plotting histogram for all numerical columns.\n",
        "#\n",
        "coln=merged_df.select_dtypes('number')\n",
        "colms=coln.columns.drop(['Tournament_type'],1)\n",
        "colms\n",
        "\n",
        "fig, ax = plt.subplots(len(colms), figsize=(10,20))\n",
        "\n",
        "for i, col in enumerate(colms):\n",
        "\n",
        "    sns.distplot(merged_df[col], hist=True, ax=ax[i])\n",
        "    ax[i].set_title('Distribution of '+col)\n",
        "    ax[i].set_xlabel(col, fontsize=8)\n",
        "    ax[i].set_ylabel('Count', fontsize=8)\n",
        "    \n",
        "plt.tight_layout()\n",
        "plt.show()\n",
        "\n"
      ],
      "execution_count": 129,
      "outputs": [
        {
          "output_type": "stream",
          "name": "stderr",
          "text": [
            "/usr/local/lib/python3.7/dist-packages/seaborn/distributions.py:2619: FutureWarning: `distplot` is a deprecated function and will be removed in a future version. Please adapt your code to use either `displot` (a figure-level function with similar flexibility) or `histplot` (an axes-level function for histograms).\n",
            "  warnings.warn(msg, FutureWarning)\n",
            "/usr/local/lib/python3.7/dist-packages/seaborn/distributions.py:2619: FutureWarning: `distplot` is a deprecated function and will be removed in a future version. Please adapt your code to use either `displot` (a figure-level function with similar flexibility) or `histplot` (an axes-level function for histograms).\n",
            "  warnings.warn(msg, FutureWarning)\n",
            "/usr/local/lib/python3.7/dist-packages/seaborn/distributions.py:2619: FutureWarning: `distplot` is a deprecated function and will be removed in a future version. Please adapt your code to use either `displot` (a figure-level function with similar flexibility) or `histplot` (an axes-level function for histograms).\n",
            "  warnings.warn(msg, FutureWarning)\n",
            "/usr/local/lib/python3.7/dist-packages/seaborn/distributions.py:2619: FutureWarning: `distplot` is a deprecated function and will be removed in a future version. Please adapt your code to use either `displot` (a figure-level function with similar flexibility) or `histplot` (an axes-level function for histograms).\n",
            "  warnings.warn(msg, FutureWarning)\n"
          ]
        },
        {
          "output_type": "display_data",
          "data": {
            "image/png": "[encoded data removed]",
            "text/plain": [
              "<Figure size 720x1440 with 4 Axes>"
            ]
          },
          "metadata": {
            "needs_background": "light"
          }
        }
      ]
    },
    {
      "cell_type": "code",
      "metadata": {
        "id": "ChNaPD1lAaYS",
        "colab": {
          "base_uri": "https://localhost:8080/",
          "height": 1000
        },
        "outputId": "69a32780-1338-4ad6-8ec5-cf644fd73f76"
      },
      "source": [
        "#Boxplots for all numerical columns.\n",
        "for col in colms:\n",
        "  plt.figure(figsize = (10, 8))\n",
        "  merged_df.boxplot([col])"
      ],
      "execution_count": 130,
      "outputs": [
        {
          "output_type": "display_data",
          "data": {
            "image/png": "[encoded data removed]",
            "text/plain": [
              "<Figure size 720x576 with 1 Axes>"
            ]
          },
          "metadata": {
            "needs_background": "light"
          }
        },
        {
          "output_type": "display_data",
          "data": {
            "image/png": "[encoded data removed]",
            "text/plain": [
              "<Figure size 720x576 with 1 Axes>"
            ]
          },
          "metadata": {
            "needs_background": "light"
          }
        },
        {
          "output_type": "display_data",
          "data": {
            "image/png": "[encoded data removed]",
            "text/plain": [
              "<Figure size 720x576 with 1 Axes>"
            ]
          },
          "metadata": {
            "needs_background": "light"
          }
        },
        {
          "output_type": "display_data",
          "data": {
            "image/png": "[encoded data removed]",
            "text/plain": [
              "<Figure size 720x576 with 1 Axes>"
            ]
          },
          "metadata": {
            "needs_background": "light"
          }
        }
      ]
    },
    {
      "cell_type": "code",
      "metadata": {
        "id": "UqOzyEgrBBVs",
        "colab": {
          "base_uri": "https://localhost:8080/",
          "height": 244
        },
        "outputId": "454963af-48eb-4103-8d5a-77f8090057e8"
      },
      "source": [
        "#Assessing outliers in home_rank column.\n",
        "#\n",
        "merged_df[merged_df['home_rank']>200]"
      ],
      "execution_count": 131,
      "outputs": [
        {
          "output_type": "execute_result",
          "data": {
            "text/html": [
              "<div>\n",
              "<style scoped>\n",
              "    .dataframe tbody tr th:only-of-type {\n",
              "        vertical-align: middle;\n",
              "    }\n",
              "\n",
              "    .dataframe tbody tr th {\n",
              "        vertical-align: top;\n",
              "    }\n",
              "\n",
              "    .dataframe thead th {\n",
              "        text-align: right;\n",
              "    }\n",
              "</style>\n",
              "<table border=\"1\" class=\"dataframe\">\n",
              "  <thead>\n",
              "    <tr style=\"text-align: right;\">\n",
              "      <th></th>\n",
              "      <th>date</th>\n",
              "      <th>home_team</th>\n",
              "      <th>away_team</th>\n",
              "      <th>home_score</th>\n",
              "      <th>away_score</th>\n",
              "      <th>tournament</th>\n",
              "      <th>home_rank</th>\n",
              "      <th>away_rank</th>\n",
              "      <th>Status</th>\n",
              "      <th>Tournament_type</th>\n",
              "    </tr>\n",
              "  </thead>\n",
              "  <tbody>\n",
              "    <tr>\n",
              "      <th>408</th>\n",
              "      <td>2004-05-12</td>\n",
              "      <td>American Samoa</td>\n",
              "      <td>Vanuatu</td>\n",
              "      <td>1</td>\n",
              "      <td>9</td>\n",
              "      <td>FIFA World Cup qualification</td>\n",
              "      <td>203</td>\n",
              "      <td>161</td>\n",
              "      <td>Loss</td>\n",
              "      <td>0</td>\n",
              "    </tr>\n",
              "    <tr>\n",
              "      <th>630</th>\n",
              "      <td>2009-02-11</td>\n",
              "      <td>San Marino</td>\n",
              "      <td>Northern Ireland</td>\n",
              "      <td>0</td>\n",
              "      <td>3</td>\n",
              "      <td>FIFA World Cup qualification</td>\n",
              "      <td>201</td>\n",
              "      <td>49</td>\n",
              "      <td>Loss</td>\n",
              "      <td>0</td>\n",
              "    </tr>\n",
              "    <tr>\n",
              "      <th>640</th>\n",
              "      <td>2009-03-11</td>\n",
              "      <td>Guam</td>\n",
              "      <td>Mongolia</td>\n",
              "      <td>1</td>\n",
              "      <td>0</td>\n",
              "      <td>EAFF Championship</td>\n",
              "      <td>201</td>\n",
              "      <td>193</td>\n",
              "      <td>Win</td>\n",
              "      <td>0</td>\n",
              "    </tr>\n",
              "    <tr>\n",
              "      <th>812</th>\n",
              "      <td>2012-09-05</td>\n",
              "      <td>Montserrat</td>\n",
              "      <td>Suriname</td>\n",
              "      <td>1</td>\n",
              "      <td>7</td>\n",
              "      <td>CFU Caribbean Cup qualification</td>\n",
              "      <td>206</td>\n",
              "      <td>138</td>\n",
              "      <td>Loss</td>\n",
              "      <td>0</td>\n",
              "    </tr>\n",
              "  </tbody>\n",
              "</table>\n",
              "</div>"
            ],
            "text/plain": [
              "          date       home_team  ... Status  Tournament_type\n",
              "408 2004-05-12  American Samoa  ...   Loss                0\n",
              "630 2009-02-11      San Marino  ...   Loss                0\n",
              "640 2009-03-11            Guam  ...    Win                0\n",
              "812 2012-09-05      Montserrat  ...   Loss                0\n",
              "\n",
              "[4 rows x 10 columns]"
            ]
          },
          "metadata": {},
          "execution_count": 131
        }
      ]
    },
    {
      "cell_type": "markdown",
      "metadata": {
        "id": "wFs8_ZxyBrqU"
      },
      "source": [
        "#####From the above we can see that the rank outliers are just countries with low ranks(corresponding to higher rank values)"
      ]
    },
    {
      "cell_type": "markdown",
      "metadata": {
        "id": "Ia2YwQBDCJ-a"
      },
      "source": [
        "####Bivariate analysis"
      ]
    },
    {
      "cell_type": "code",
      "metadata": {
        "id": "2JINTkj7CNn3",
        "colab": {
          "base_uri": "https://localhost:8080/",
          "height": 595
        },
        "outputId": "19346690-5194-4d1f-e391-5030ebb00ab9"
      },
      "source": [
        "#Plotting a heat map to show numerical variable correlations\n",
        "plt.figure(figsize=(14,10))\n",
        "sns.heatmap(merged_df.corr(),annot=True,cmap=\"Reds\",fmt=\".2f\");\n",
        "plt.show()"
      ],
      "execution_count": 132,
      "outputs": [
        {
          "output_type": "display_data",
          "data": {
            "image/png": "[encoded data removed]",
            "text/plain": [
              "<Figure size 1008x720 with 2 Axes>"
            ]
          },
          "metadata": {
            "needs_background": "light"
          }
        }
      ]
    },
    {
      "cell_type": "markdown",
      "metadata": {
        "id": "pIhRFFUqEyF5"
      },
      "source": [
        "####From the above heatmap we can determine:\n",
        "-There are moderate negative correlations between home_rank ,away_rank and tournament_type(-0.26 and -0.34 respectively)\n",
        "\n",
        "-There is a moderate positive correlation between away_rank and  home_score(+0.31) \n",
        "\n",
        "-There is a relatively strong positive correlation between home_rank and away_rank (+0.53)"
      ]
    },
    {
      "cell_type": "code",
      "metadata": {
        "id": "E-xc72rwarsM"
      },
      "source": [
        "\n",
        "#What to train given:\n",
        "\n",
        "#Rank of home team\n",
        "#Rank of away team\n",
        "#Tournament type\n",
        "#Away team score\n",
        "#Model 1: Predict how many goals the home team scores.\n",
        "\n",
        "#Model 2: Predict how many goals the away team scores."
      ],
      "execution_count": 133,
      "outputs": []
    },
    {
      "cell_type": "code",
      "metadata": {
        "id": "grm6EwqUfzSH"
      },
      "source": [
        "#Importing libraries\n",
        "#\n",
        "from sklearn.preprocessing import PolynomialFeatures\n",
        "\n",
        "from sklearn.model_selection import train_test_split\n",
        "\n",
        "from sklearn.linear_model import LinearRegression"
      ],
      "execution_count": 134,
      "outputs": []
    },
    {
      "cell_type": "code",
      "metadata": {
        "id": "Kc3k5ZW-2uTt",
        "colab": {
          "base_uri": "https://localhost:8080/",
          "height": 206
        },
        "outputId": "01df4e91-4007-4ad3-f3bf-314eff85d348"
      },
      "source": [
        "#checking for multicollinearity for independent variables . \n",
        "X = merged_df[['home_rank','away_rank','Tournament_type', 'away_score','home_score']]\n",
        "correlations =X.corr()\n",
        "pd.DataFrame(np.linalg.inv(correlations.values), index = correlations.index, columns=correlations.columns)"
      ],
      "execution_count": 135,
      "outputs": [
        {
          "output_type": "execute_result",
          "data": {
            "text/html": [
              "<div>\n",
              "<style scoped>\n",
              "    .dataframe tbody tr th:only-of-type {\n",
              "        vertical-align: middle;\n",
              "    }\n",
              "\n",
              "    .dataframe tbody tr th {\n",
              "        vertical-align: top;\n",
              "    }\n",
              "\n",
              "    .dataframe thead th {\n",
              "        text-align: right;\n",
              "    }\n",
              "</style>\n",
              "<table border=\"1\" class=\"dataframe\">\n",
              "  <thead>\n",
              "    <tr style=\"text-align: right;\">\n",
              "      <th></th>\n",
              "      <th>home_rank</th>\n",
              "      <th>away_rank</th>\n",
              "      <th>Tournament_type</th>\n",
              "      <th>away_score</th>\n",
              "      <th>home_score</th>\n",
              "    </tr>\n",
              "  </thead>\n",
              "  <tbody>\n",
              "    <tr>\n",
              "      <th>home_rank</th>\n",
              "      <td>1.623230</td>\n",
              "      <td>-0.977892</td>\n",
              "      <td>0.143115</td>\n",
              "      <td>-0.334995</td>\n",
              "      <td>0.348216</td>\n",
              "    </tr>\n",
              "    <tr>\n",
              "      <th>away_rank</th>\n",
              "      <td>-0.977892</td>\n",
              "      <td>1.836134</td>\n",
              "      <td>0.291429</td>\n",
              "      <td>0.347241</td>\n",
              "      <td>-0.524338</td>\n",
              "    </tr>\n",
              "    <tr>\n",
              "      <th>Tournament_type</th>\n",
              "      <td>0.143115</td>\n",
              "      <td>0.291429</td>\n",
              "      <td>1.146431</td>\n",
              "      <td>0.028245</td>\n",
              "      <td>0.077397</td>\n",
              "    </tr>\n",
              "    <tr>\n",
              "      <th>away_score</th>\n",
              "      <td>-0.334995</td>\n",
              "      <td>0.347241</td>\n",
              "      <td>0.028245</td>\n",
              "      <td>1.104126</td>\n",
              "      <td>0.028142</td>\n",
              "    </tr>\n",
              "    <tr>\n",
              "      <th>home_score</th>\n",
              "      <td>0.348216</td>\n",
              "      <td>-0.524338</td>\n",
              "      <td>0.077397</td>\n",
              "      <td>0.028142</td>\n",
              "      <td>1.191661</td>\n",
              "    </tr>\n",
              "  </tbody>\n",
              "</table>\n",
              "</div>"
            ],
            "text/plain": [
              "                 home_rank  away_rank  Tournament_type  away_score  home_score\n",
              "home_rank         1.623230  -0.977892         0.143115   -0.334995    0.348216\n",
              "away_rank        -0.977892   1.836134         0.291429    0.347241   -0.524338\n",
              "Tournament_type   0.143115   0.291429         1.146431    0.028245    0.077397\n",
              "away_score       -0.334995   0.347241         0.028245    1.104126    0.028142\n",
              "home_score        0.348216  -0.524338         0.077397    0.028142    1.191661"
            ]
          },
          "metadata": {},
          "execution_count": 135
        }
      ]
    },
    {
      "cell_type": "markdown",
      "metadata": {
        "id": "Q1wMHzLl3EKF"
      },
      "source": [
        "The VIF values are nowhere near 5 thus we can use these variables as they don't depend on each other."
      ]
    },
    {
      "cell_type": "markdown",
      "metadata": {
        "id": "o_BjkFpGY4Sd"
      },
      "source": [
        "###Model 1:Predict how many goals the home team scores."
      ]
    },
    {
      "cell_type": "code",
      "metadata": {
        "id": "npUu4MZdbJ3t"
      },
      "source": [
        "#Creating the feature(independent) and target(dependent) variables\n",
        "# X and Y respectively\n",
        "#\n",
        "X = merged_df[['home_rank','away_score','away_rank','Tournament_type']].values\n",
        "y = merged_df['home_score'].values"
      ],
      "execution_count": 157,
      "outputs": []
    },
    {
      "cell_type": "code",
      "metadata": {
        "id": "pK-1ul7-bIJn"
      },
      "source": [
        "# Split the dataset into train and test sets\n",
        "X_train, X_test, Y_train, Y_test = train_test_split(X,y, test_size = 0.2, random_state=15)\n",
        "\n",
        "\n",
        "\n"
      ],
      "execution_count": 158,
      "outputs": []
    },
    {
      "cell_type": "code",
      "metadata": {
        "id": "JQQw81mjJSwU"
      },
      "source": [
        "# Fit polynomial Regression to the dataset\n",
        "poly_reg = PolynomialFeatures(degree = 3) \n",
        "X_poly = poly_reg.fit_transform((X))\n",
        "\n",
        "lin_reg = LinearRegression()\n",
        "Lin = lin_reg.fit(X_poly, y)\n",
        "y_pred= lin_reg.predict(poly_reg.fit_transform(X_test))"
      ],
      "execution_count": 159,
      "outputs": []
    },
    {
      "cell_type": "code",
      "metadata": {
        "colab": {
          "base_uri": "https://localhost:8080/"
        },
        "id": "bUmhb6dOXBIj",
        "outputId": "487009d7-f119-4629-b0c8-0735bf175057"
      },
      "source": [
        "#Model 1 Root mean square Error\n",
        "#Using sklearn's metrics\n",
        "#\n",
        "from sklearn import metrics\n",
        "print(\"Model 1's root mean square error :\",np.sqrt(metrics.mean_squared_error(y_pred,y_test)))"
      ],
      "execution_count": 164,
      "outputs": [
        {
          "output_type": "stream",
          "name": "stdout",
          "text": [
            "Model 1's root mean square error : 1.0751181874234421\n"
          ]
        }
      ]
    },
    {
      "cell_type": "code",
      "metadata": {
        "colab": {
          "base_uri": "https://localhost:8080/"
        },
        "id": "_3oKTfNVZoCV",
        "outputId": "f0467072-566a-4d16-eac2-371465580783"
      },
      "source": [
        "#Model 1 residuals test\n",
        "# \n",
        "model = LinearRegression()\n",
        "model.fit(X_train, y_train)\n",
        "\n",
        "# This is the predicted value based on our model \n",
        "predicts = model.predict(X_test)\n",
        "\n",
        "#Subtracting actual value from predicted value to determine \n",
        "#Residual(Error) \n",
        "\n",
        "residuals = np.subtract(predicts, y_test)\n",
        "\n",
        "# Let's describe our residual:\n",
        "pd.DataFrame(residuals).describe()\n",
        "print(\"Model 1's residual mean:\", residuals.mean())\n",
        "\n",
        "# Heteroskedasticity\n",
        "import scipy as sp\n",
        "\n",
        "test_result, p_value = sp.stats.bartlett(y_pred, residuals)\n",
        "\n",
        "degree_of_freedom = len(y_pred)-1\n",
        "probability = 1 - p_value\n",
        "critical_value = sp.stats.chi2.ppf(probability, degree_of_freedom)\n",
        "print(\"Model 1's P-Value:\",p_value)\n",
        "\n",
        "if (test_result > critical_value):\n",
        "  print('Refine Model')\n",
        "else:\n",
        "  print('Keep model!')"
      ],
      "execution_count": 140,
      "outputs": [
        {
          "output_type": "stream",
          "name": "stdout",
          "text": [
            "Model 1's residual mean: 0.13904962625212008\n",
            "Model 1's P-Value: 1.742366587123813e-10\n",
            "Keep model!\n"
          ]
        }
      ]
    },
    {
      "cell_type": "markdown",
      "metadata": {
        "id": "hZXeN4yKXB6P"
      },
      "source": [
        "###Model 2: Predict how many goals the away team scores."
      ]
    },
    {
      "cell_type": "code",
      "metadata": {
        "id": "3HD2cleOXQgp"
      },
      "source": [
        "#Creating the feature(independent) and target(dependent) variables\n",
        "# X and Y respectively\n",
        "#\n",
        "X = merged_df[['home_rank','home_score','away_rank','Tournament_type']]\n",
        "y = merged_df['away_score']"
      ],
      "execution_count": 141,
      "outputs": []
    },
    {
      "cell_type": "code",
      "metadata": {
        "id": "bfSbIKlaX1Qv"
      },
      "source": [
        "#Spliting into train and test\n",
        "X_train,X_test,y_train,y_test = train_test_split(X,y,test_size=0.2,random_state=15)\n",
        "\n",
        "#Transforming data into a polynomial \n",
        "poly_reg = PolynomialFeatures(degree = 4) \n",
        "X_poly = poly_reg.fit_transform(X)\n",
        "\n",
        "lin_reg = LinearRegression()\n",
        "Lin = lin_reg.fit(X_poly, y)\n",
        "y_pred= lin_reg.predict(poly_reg.fit_transform(X_test))"
      ],
      "execution_count": 142,
      "outputs": []
    },
    {
      "cell_type": "code",
      "metadata": {
        "colab": {
          "base_uri": "https://localhost:8080/"
        },
        "id": "47FFbtL5ZcAO",
        "outputId": "49cf1829-5e1c-4744-fb68-2f14cab32842"
      },
      "source": [
        "#Model 2 Root mean square Error\n",
        "#Using sklearn's metrics\n",
        "#\n",
        "from sklearn import metrics\n",
        "print(\"Root mean square error :\",np.sqrt(metrics.mean_squared_error(y_pred,y_test)))"
      ],
      "execution_count": 143,
      "outputs": [
        {
          "output_type": "stream",
          "name": "stdout",
          "text": [
            "Root mean square error : 1.0574241415131391\n"
          ]
        }
      ]
    },
    {
      "cell_type": "code",
      "metadata": {
        "colab": {
          "base_uri": "https://localhost:8080/"
        },
        "id": "NSYSii1FbwVw",
        "outputId": "4eb90d06-eac3-4368-a86c-c3395b6fd98b"
      },
      "source": [
        "#Model 2 residuals ,heteroskedasticity and accuracy test\n",
        "# \n",
        "model = LinearRegression()\n",
        "model.fit(X_train, y_train)\n",
        "\n",
        "# This is the predicted value based on our model \n",
        "predicts = model.predict(X_test)\n",
        "\n",
        "#Subtracting actual value from predicted value to determine \n",
        "#Residual(Error) \n",
        "\n",
        "residuals = np.subtract(predicts, y_test)\n",
        "\n",
        "# Let's describe our residual:\n",
        "pd.DataFrame(residuals).describe()\n",
        "print(\"Model 2's residual mean:\", residuals.mean())\n",
        "\n",
        "# Heteroskedasticity\n",
        "import scipy as sp\n",
        "\n",
        "test_result, p_value = sp.stats.bartlett(y_pred, residuals)\n",
        "\n",
        "degree_of_freedom = len(y_pred)-1\n",
        "probability = 1 - p_value\n",
        "critical_value = sp.stats.chi2.ppf(probability, degree_of_freedom)\n",
        "print(\"Model 2's P-Test:\",p_value)\n",
        "\n",
        "if (test_result > critical_value):\n",
        "  print('Refine Model')\n",
        "else:\n",
        "  print('Keep model!')\n"
      ],
      "execution_count": 144,
      "outputs": [
        {
          "output_type": "stream",
          "name": "stdout",
          "text": [
            "Model 2's residual mean: -0.003901875186558453\n",
            "Model 2's P-Test: 8.746289223908651e-23\n",
            "Keep model!\n"
          ]
        }
      ]
    },
    {
      "cell_type": "markdown",
      "metadata": {
        "id": "n1U_8vAVcE29"
      },
      "source": [
        "##Logistics Regression:\n",
        "\n",
        "###Question:\n",
        "\n",
        "-Figure out from the home team’s perspective if the game is a Win, Lose or Draw ."
      ]
    },
    {
      "cell_type": "code",
      "metadata": {
        "colab": {
          "base_uri": "https://localhost:8080/",
          "height": 423
        },
        "id": "8u4L188Te6GU",
        "outputId": "40ff3b04-1cff-4b62-eb48-441b8b2a0fbf"
      },
      "source": [
        "#Converting status column to numeric \n",
        "from sklearn.preprocessing import LabelEncoder\n",
        "en = LabelEncoder()\n",
        "merged_df['Status'] = en.fit_transform(merged_df['Status'])\n",
        "merged_df\n",
        "\n",
        "##2 : Win\n",
        "##1 : Loss\n",
        "##0 : Draw"
      ],
      "execution_count": 147,
      "outputs": [
        {
          "output_type": "execute_result",
          "data": {
            "text/html": [
              "<div>\n",
              "<style scoped>\n",
              "    .dataframe tbody tr th:only-of-type {\n",
              "        vertical-align: middle;\n",
              "    }\n",
              "\n",
              "    .dataframe tbody tr th {\n",
              "        vertical-align: top;\n",
              "    }\n",
              "\n",
              "    .dataframe thead th {\n",
              "        text-align: right;\n",
              "    }\n",
              "</style>\n",
              "<table border=\"1\" class=\"dataframe\">\n",
              "  <thead>\n",
              "    <tr style=\"text-align: right;\">\n",
              "      <th></th>\n",
              "      <th>date</th>\n",
              "      <th>home_team</th>\n",
              "      <th>away_team</th>\n",
              "      <th>home_score</th>\n",
              "      <th>away_score</th>\n",
              "      <th>tournament</th>\n",
              "      <th>home_rank</th>\n",
              "      <th>away_rank</th>\n",
              "      <th>Status</th>\n",
              "      <th>Tournament_type</th>\n",
              "    </tr>\n",
              "  </thead>\n",
              "  <tbody>\n",
              "    <tr>\n",
              "      <th>0</th>\n",
              "      <td>1993-08-08</td>\n",
              "      <td>Bolivia</td>\n",
              "      <td>Uruguay</td>\n",
              "      <td>3</td>\n",
              "      <td>1</td>\n",
              "      <td>FIFA World Cup qualification</td>\n",
              "      <td>59</td>\n",
              "      <td>22</td>\n",
              "      <td>2</td>\n",
              "      <td>0</td>\n",
              "    </tr>\n",
              "    <tr>\n",
              "      <th>1</th>\n",
              "      <td>1993-08-08</td>\n",
              "      <td>Brazil</td>\n",
              "      <td>Mexico</td>\n",
              "      <td>1</td>\n",
              "      <td>1</td>\n",
              "      <td>Friendly</td>\n",
              "      <td>8</td>\n",
              "      <td>14</td>\n",
              "      <td>0</td>\n",
              "      <td>1</td>\n",
              "    </tr>\n",
              "    <tr>\n",
              "      <th>2</th>\n",
              "      <td>1993-08-08</td>\n",
              "      <td>Ecuador</td>\n",
              "      <td>Venezuela</td>\n",
              "      <td>5</td>\n",
              "      <td>0</td>\n",
              "      <td>FIFA World Cup qualification</td>\n",
              "      <td>35</td>\n",
              "      <td>94</td>\n",
              "      <td>2</td>\n",
              "      <td>0</td>\n",
              "    </tr>\n",
              "    <tr>\n",
              "      <th>3</th>\n",
              "      <td>1993-08-08</td>\n",
              "      <td>Guinea</td>\n",
              "      <td>Sierra Leone</td>\n",
              "      <td>1</td>\n",
              "      <td>0</td>\n",
              "      <td>Friendly</td>\n",
              "      <td>65</td>\n",
              "      <td>86</td>\n",
              "      <td>2</td>\n",
              "      <td>1</td>\n",
              "    </tr>\n",
              "    <tr>\n",
              "      <th>4</th>\n",
              "      <td>1993-08-08</td>\n",
              "      <td>Paraguay</td>\n",
              "      <td>Argentina</td>\n",
              "      <td>1</td>\n",
              "      <td>3</td>\n",
              "      <td>FIFA World Cup qualification</td>\n",
              "      <td>67</td>\n",
              "      <td>5</td>\n",
              "      <td>1</td>\n",
              "      <td>0</td>\n",
              "    </tr>\n",
              "    <tr>\n",
              "      <th>...</th>\n",
              "      <td>...</td>\n",
              "      <td>...</td>\n",
              "      <td>...</td>\n",
              "      <td>...</td>\n",
              "      <td>...</td>\n",
              "      <td>...</td>\n",
              "      <td>...</td>\n",
              "      <td>...</td>\n",
              "      <td>...</td>\n",
              "      <td>...</td>\n",
              "    </tr>\n",
              "    <tr>\n",
              "      <th>866</th>\n",
              "      <td>2018-06-07</td>\n",
              "      <td>England</td>\n",
              "      <td>Costa Rica</td>\n",
              "      <td>2</td>\n",
              "      <td>0</td>\n",
              "      <td>Friendly</td>\n",
              "      <td>12</td>\n",
              "      <td>23</td>\n",
              "      <td>2</td>\n",
              "      <td>1</td>\n",
              "    </tr>\n",
              "    <tr>\n",
              "      <th>867</th>\n",
              "      <td>2018-06-07</td>\n",
              "      <td>Uruguay</td>\n",
              "      <td>Uzbekistan</td>\n",
              "      <td>3</td>\n",
              "      <td>0</td>\n",
              "      <td>Friendly</td>\n",
              "      <td>14</td>\n",
              "      <td>95</td>\n",
              "      <td>2</td>\n",
              "      <td>1</td>\n",
              "    </tr>\n",
              "    <tr>\n",
              "      <th>868</th>\n",
              "      <td>2018-06-07</td>\n",
              "      <td>Portugal</td>\n",
              "      <td>Algeria</td>\n",
              "      <td>3</td>\n",
              "      <td>0</td>\n",
              "      <td>Friendly</td>\n",
              "      <td>4</td>\n",
              "      <td>66</td>\n",
              "      <td>2</td>\n",
              "      <td>1</td>\n",
              "    </tr>\n",
              "    <tr>\n",
              "      <th>869</th>\n",
              "      <td>2018-06-07</td>\n",
              "      <td>Iceland</td>\n",
              "      <td>Ghana</td>\n",
              "      <td>2</td>\n",
              "      <td>2</td>\n",
              "      <td>Friendly</td>\n",
              "      <td>22</td>\n",
              "      <td>47</td>\n",
              "      <td>0</td>\n",
              "      <td>1</td>\n",
              "    </tr>\n",
              "    <tr>\n",
              "      <th>870</th>\n",
              "      <td>2018-06-07</td>\n",
              "      <td>India</td>\n",
              "      <td>New Zealand</td>\n",
              "      <td>1</td>\n",
              "      <td>2</td>\n",
              "      <td>Intercontinental Cup</td>\n",
              "      <td>97</td>\n",
              "      <td>120</td>\n",
              "      <td>1</td>\n",
              "      <td>0</td>\n",
              "    </tr>\n",
              "  </tbody>\n",
              "</table>\n",
              "<p>871 rows × 10 columns</p>\n",
              "</div>"
            ],
            "text/plain": [
              "          date home_team     away_team  ...  away_rank  Status Tournament_type\n",
              "0   1993-08-08   Bolivia       Uruguay  ...         22       2               0\n",
              "1   1993-08-08    Brazil        Mexico  ...         14       0               1\n",
              "2   1993-08-08   Ecuador     Venezuela  ...         94       2               0\n",
              "3   1993-08-08    Guinea  Sierra Leone  ...         86       2               1\n",
              "4   1993-08-08  Paraguay     Argentina  ...          5       1               0\n",
              "..         ...       ...           ...  ...        ...     ...             ...\n",
              "866 2018-06-07   England    Costa Rica  ...         23       2               1\n",
              "867 2018-06-07   Uruguay    Uzbekistan  ...         95       2               1\n",
              "868 2018-06-07  Portugal       Algeria  ...         66       2               1\n",
              "869 2018-06-07   Iceland         Ghana  ...         47       0               1\n",
              "870 2018-06-07     India   New Zealand  ...        120       1               0\n",
              "\n",
              "[871 rows x 10 columns]"
            ]
          },
          "metadata": {},
          "execution_count": 147
        }
      ]
    },
    {
      "cell_type": "code",
      "metadata": {
        "id": "fB4jz5NlvzHs"
      },
      "source": [
        "#Creating the test and train through splitting\n",
        "#First creating the dependent and independent variables:\n",
        "#\n",
        "\n",
        "X = merged_df[['home_rank','home_score','away_rank','away_score','Tournament_type']]\n",
        "y = merged_df[['Status']]\n",
        "\n",
        "#Spliting the variables\n",
        "#\n",
        "from sklearn.model_selection import train_test_split\n",
        "X_train, X_test, y_train, y_test = train_test_split(X, y, test_size = .2, random_state=15)"
      ],
      "execution_count": 150,
      "outputs": []
    },
    {
      "cell_type": "code",
      "metadata": {
        "colab": {
          "base_uri": "https://localhost:8080/"
        },
        "id": "nGTUUO7Qvy7I",
        "outputId": "668ef832-4160-4547-98c0-8c629e4f8591"
      },
      "source": [
        "#Creatinginstances of the log model\n",
        "#\n",
        "\n",
        "from sklearn.linear_model import LogisticRegression\n",
        "\n",
        "logmod = LogisticRegression()\n",
        "log = logmod.fit(X_train, y_train)\n"
      ],
      "execution_count": 153,
      "outputs": [
        {
          "output_type": "stream",
          "name": "stderr",
          "text": [
            "/usr/local/lib/python3.7/dist-packages/sklearn/utils/validation.py:985: DataConversionWarning: A column-vector y was passed when a 1d array was expected. Please change the shape of y to (n_samples, ), for example using ravel().\n",
            "  y = column_or_1d(y, warn=True)\n",
            "/usr/local/lib/python3.7/dist-packages/sklearn/linear_model/_logistic.py:818: ConvergenceWarning: lbfgs failed to converge (status=1):\n",
            "STOP: TOTAL NO. of ITERATIONS REACHED LIMIT.\n",
            "\n",
            "Increase the number of iterations (max_iter) or scale the data as shown in:\n",
            "    https://scikit-learn.org/stable/modules/preprocessing.html\n",
            "Please also refer to the documentation for alternative solver options:\n",
            "    https://scikit-learn.org/stable/modules/linear_model.html#logistic-regression\n",
            "  extra_warning_msg=_LOGISTIC_SOLVER_CONVERGENCE_MSG,\n"
          ]
        }
      ]
    },
    {
      "cell_type": "code",
      "metadata": {
        "colab": {
          "base_uri": "https://localhost:8080/"
        },
        "id": "I8c8J1P_w2-j",
        "outputId": "de525965-a20c-4048-984a-4f75ec1d9660"
      },
      "source": [
        "#Creating a prediction variable using our model \n",
        "y_pred = log.predict(X_test)\n",
        "\n",
        "#Determining  model accurcy \n",
        "from sklearn.metrics import accuracy_score\n",
        "score = accuracy_score\n",
        "print(\"Model Accuracy :\",log.score(X_test,y_test)*100)"
      ],
      "execution_count": 154,
      "outputs": [
        {
          "output_type": "stream",
          "name": "stdout",
          "text": [
            "Model Accuracy : 100.0\n"
          ]
        }
      ]
    },
    {
      "cell_type": "markdown",
      "metadata": {
        "id": "e0IQP_cRxYE9"
      },
      "source": [
        "###From the above we can confidently conclude that both our polynomial models and our logistical models were highly effective and dependable."
      ]
    }
  ]
}